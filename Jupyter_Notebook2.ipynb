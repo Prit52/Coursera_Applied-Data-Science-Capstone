{
 "cells": [
  {
   "cell_type": "markdown",
   "metadata": {
    "slideshow": {
     "slide_type": "slide"
    }
   },
   "source": [
    "# <font color=blue> Car Accident Severity Analysis using Machine Learning Algorithms</font>"
   ]
  },
  {
   "cell_type": "markdown",
   "metadata": {
    "slideshow": {
     "slide_type": "slide"
    }
   },
   "source": [
    "### Importing the libraries"
   ]
  },
  {
   "cell_type": "code",
   "execution_count": 1,
   "metadata": {
    "pycharm": {
     "name": "#%%\n"
    }
   },
   "outputs": [],
   "source": [
    "from IPython.core.interactiveshell import InteractiveShell\n",
    "InteractiveShell.ast_node_interactivity = \"all\""
   ]
  },
  {
   "cell_type": "code",
   "execution_count": 5,
   "metadata": {
    "pycharm": {
     "name": "#%%\n"
    }
   },
   "outputs": [
    {
     "name": "stdout",
     "output_type": "stream",
     "text": [
      "Hello Capstone Project Course!\n"
     ]
    }
   ],
   "source": [
    "import matplotlib.pyplot as plt\n",
    "%matplotlib inline\n",
    "import numpy as np\n",
    "import pandas as pd\n",
    "import seaborn as sns\n",
    "from sklearn.neighbors import KNeighborsClassifier\n",
    "\n",
    "# Import DecisionTreeClassifier from sklearn.tree\n",
    "from sklearn.tree import DecisionTreeClassifier\n",
    "\n",
    "# Import RandomForestClassifier\n",
    "from sklearn.ensemble import RandomForestClassifier\n",
    "\n",
    "# Import LogisticRegression\n",
    "from sklearn.linear_model import LogisticRegression\n",
    "\n",
    "from sklearn.model_selection import train_test_split\n",
    "from sklearn.feature_selection import SelectFromModel\n",
    "from sklearn.metrics import accuracy_score\n",
    "\n",
    "print(\"Hello Capstone Project Course!\")"
   ]
  },
  {
   "cell_type": "markdown",
   "metadata": {
    "pycharm": {
     "name": "#%% md\n"
    },
    "slideshow": {
     "slide_type": "slide"
    }
   },
   "source": [
    "### Introduction & Business Understanding\n",
    "\n",
    "Road accidents are one of the major causes of death and disability all over the world. Reason for road accidents can be\n",
    "environmental conditions such as weather, traffic on road, type of road, speed and light conditions. This paper addresses \n",
    "the in-depth analysis that identifies as the contributory factors behind the road accidents and the quantification of the \n",
    "factors that affect the frequency and severity of accidents based on the crash data available.The severity of each accident\n",
    "can be predicted quite accurately with various classification machine learning algorithms. This can ultimately help \n",
    "government, traffic police, medical institutions, individual drivers and the insurance companies by getting \n",
    "useful insights of the accident severity regarding the causes and consequences of the accidents.The Machine Learning model\n",
    "and its results are going to provide some advice for the target audience to make insightful decisions for reducing\n",
    "the number of accidents and injuries for the city. The model will predict the accident severity with various\n",
    "supervised machine learning algorithms i.e.\n",
    "* Algorithm A. Logistic regression\n",
    "* Algorithm B. The K-Nearest Neighbors (KNN) algorithm\n",
    "* Algorithm C. Decision Tree\n",
    "* Algorithm D. Random Forest\n",
    "And finally, the accuracy score versus algorithm will be plotted to check which algorithm performs better."
   ]
  },
  {
   "cell_type": "markdown",
   "metadata": {
    "pycharm": {
     "name": "#%% md\n"
    },
    "slideshow": {
     "slide_type": "slide"
    }
   },
   "source": [
    "### Data Understanding\n",
    "\n",
    "The data used for this project was collected by the SDOT traffic management Division and Seattle Traffic Records Group \n",
    "from 2004 to present. It was downloaded from the link shared in the IBM Applied Data Science Capstone course.\n",
    "The data consists of 38 independent variables and 194,673 rows. The dependent variable, “SEVERITYCODE”, contains \n",
    "numbers that correspond to different levels of severity caused by an accident from 1 to 2. Severity codes are as follows: \n",
    "1: Property Damage Only Collision \n",
    "2: Injury Collision\n",
    "Furthermore, as there are null values in some records, the data needs to be pre-processed before any further processing."
   ]
  },
  {
   "cell_type": "markdown",
   "metadata": {
    "slideshow": {
     "slide_type": "slide"
    }
   },
   "source": [
    "#### Reading the CSV Data"
   ]
  },
  {
   "cell_type": "code",
   "execution_count": 6,
   "metadata": {
    "pycharm": {
     "name": "#%%\n"
    },
    "scrolled": true
   },
   "outputs": [
    {
     "name": "stderr",
     "output_type": "stream",
     "text": [
      "c:\\users\\salma\\desktop\\projects\\venv\\new\\new\\lib\\site-packages\\IPython\\core\\interactiveshell.py:3145: DtypeWarning: Columns (32) have mixed types.Specify dtype option on import or set low_memory=False.\n",
      "  has_raised = await self.run_ast_nodes(code_ast.body, cell_name,\n"
     ]
    },
    {
     "name": "stdout",
     "output_type": "stream",
     "text": [
      "<class 'pandas.core.frame.DataFrame'>\n",
      "RangeIndex: 194673 entries, 0 to 194672\n",
      "Data columns (total 37 columns):\n",
      " #   Column          Non-Null Count   Dtype  \n",
      "---  ------          --------------   -----  \n",
      " 0   SEVERITYCODE    194673 non-null  int64  \n",
      " 1   longitude       189339 non-null  float64\n",
      " 2   latitude        189339 non-null  float64\n",
      " 3   OBJECTID        194673 non-null  int64  \n",
      " 4   INCKEY          194673 non-null  int64  \n",
      " 5   COLDETKEY       194673 non-null  int64  \n",
      " 6   REPORTNO        194673 non-null  object \n",
      " 7   STATUS          194673 non-null  object \n",
      " 8   ADDRTYPE        192747 non-null  object \n",
      " 9   INTKEY          65070 non-null   float64\n",
      " 10  LOCATION        191996 non-null  object \n",
      " 11  EXCEPTRSNCODE   84811 non-null   object \n",
      " 12  EXCEPTRSNDESC   5638 non-null    object \n",
      " 13  SEVERITYDESC    194673 non-null  object \n",
      " 14  COLLISIONTYPE   189769 non-null  object \n",
      " 15  PERSONCOUNT     194673 non-null  int64  \n",
      " 16  PEDCOUNT        194673 non-null  int64  \n",
      " 17  PEDCYLCOUNT     194673 non-null  int64  \n",
      " 18  VEHCOUNT        194673 non-null  int64  \n",
      " 19  INCDATE         194673 non-null  object \n",
      " 20  INCDTTM         194673 non-null  object \n",
      " 21  JUNCTIONTYPE    188344 non-null  object \n",
      " 22  SDOT_COLCODE    194673 non-null  int64  \n",
      " 23  SDOT_COLDESC    194673 non-null  object \n",
      " 24  INATTENTIONIND  29805 non-null   object \n",
      " 25  UNDERINFL       189789 non-null  object \n",
      " 26  WEATHER         189592 non-null  object \n",
      " 27  ROADCOND        189661 non-null  object \n",
      " 28  LIGHTCOND       189503 non-null  object \n",
      " 29  PEDROWNOTGRNT   4667 non-null    object \n",
      " 30  SDOTCOLNUM      114936 non-null  float64\n",
      " 31  SPEEDING        9333 non-null    object \n",
      " 32  ST_COLCODE      194655 non-null  object \n",
      " 33  ST_COLDESC      189769 non-null  object \n",
      " 34  SEGLANEKEY      194673 non-null  int64  \n",
      " 35  CROSSWALKKEY    194673 non-null  int64  \n",
      " 36  HITPARKEDCAR    194673 non-null  object \n",
      "dtypes: float64(4), int64(11), object(22)\n",
      "memory usage: 55.0+ MB\n"
     ]
    },
    {
     "data": {
      "text/html": [
       "<div>\n",
       "<style scoped>\n",
       "    .dataframe tbody tr th:only-of-type {\n",
       "        vertical-align: middle;\n",
       "    }\n",
       "\n",
       "    .dataframe tbody tr th {\n",
       "        vertical-align: top;\n",
       "    }\n",
       "\n",
       "    .dataframe thead th {\n",
       "        text-align: right;\n",
       "    }\n",
       "</style>\n",
       "<table border=\"1\" class=\"dataframe\">\n",
       "  <thead>\n",
       "    <tr style=\"text-align: right;\">\n",
       "      <th></th>\n",
       "      <th>SEVERITYCODE</th>\n",
       "      <th>longitude</th>\n",
       "      <th>latitude</th>\n",
       "      <th>OBJECTID</th>\n",
       "      <th>INCKEY</th>\n",
       "      <th>COLDETKEY</th>\n",
       "      <th>REPORTNO</th>\n",
       "      <th>STATUS</th>\n",
       "      <th>ADDRTYPE</th>\n",
       "      <th>INTKEY</th>\n",
       "      <th>LOCATION</th>\n",
       "      <th>EXCEPTRSNCODE</th>\n",
       "      <th>EXCEPTRSNDESC</th>\n",
       "      <th>SEVERITYDESC</th>\n",
       "      <th>COLLISIONTYPE</th>\n",
       "      <th>PERSONCOUNT</th>\n",
       "      <th>PEDCOUNT</th>\n",
       "      <th>PEDCYLCOUNT</th>\n",
       "      <th>VEHCOUNT</th>\n",
       "      <th>INCDATE</th>\n",
       "      <th>INCDTTM</th>\n",
       "      <th>JUNCTIONTYPE</th>\n",
       "      <th>SDOT_COLCODE</th>\n",
       "      <th>SDOT_COLDESC</th>\n",
       "      <th>INATTENTIONIND</th>\n",
       "      <th>UNDERINFL</th>\n",
       "      <th>WEATHER</th>\n",
       "      <th>ROADCOND</th>\n",
       "      <th>LIGHTCOND</th>\n",
       "      <th>PEDROWNOTGRNT</th>\n",
       "      <th>SDOTCOLNUM</th>\n",
       "      <th>SPEEDING</th>\n",
       "      <th>ST_COLCODE</th>\n",
       "      <th>ST_COLDESC</th>\n",
       "      <th>SEGLANEKEY</th>\n",
       "      <th>CROSSWALKKEY</th>\n",
       "      <th>HITPARKEDCAR</th>\n",
       "    </tr>\n",
       "  </thead>\n",
       "  <tbody>\n",
       "    <tr>\n",
       "      <th>0</th>\n",
       "      <td>2</td>\n",
       "      <td>-122.323148</td>\n",
       "      <td>47.703140</td>\n",
       "      <td>1</td>\n",
       "      <td>1307</td>\n",
       "      <td>1307</td>\n",
       "      <td>3502005</td>\n",
       "      <td>Matched</td>\n",
       "      <td>Intersection</td>\n",
       "      <td>37475.0</td>\n",
       "      <td>5TH AVE NE AND NE 103RD ST</td>\n",
       "      <td></td>\n",
       "      <td>NaN</td>\n",
       "      <td>Injury Collision</td>\n",
       "      <td>Angles</td>\n",
       "      <td>2</td>\n",
       "      <td>0</td>\n",
       "      <td>0</td>\n",
       "      <td>2</td>\n",
       "      <td>2013/03/27 00:00:00+00</td>\n",
       "      <td>3/27/2013 14:54</td>\n",
       "      <td>At Intersection_related to intersection</td>\n",
       "      <td>11</td>\n",
       "      <td>MOTOR VEHICLE STRUCK MOTOR VEHICLE, FRONT END ...</td>\n",
       "      <td>NaN</td>\n",
       "      <td>N</td>\n",
       "      <td>Overcast</td>\n",
       "      <td>Wet</td>\n",
       "      <td>Daylight</td>\n",
       "      <td>NaN</td>\n",
       "      <td>NaN</td>\n",
       "      <td>NaN</td>\n",
       "      <td>10</td>\n",
       "      <td>Entering at angle</td>\n",
       "      <td>0</td>\n",
       "      <td>0</td>\n",
       "      <td>N</td>\n",
       "    </tr>\n",
       "    <tr>\n",
       "      <th>1</th>\n",
       "      <td>1</td>\n",
       "      <td>-122.347294</td>\n",
       "      <td>47.647172</td>\n",
       "      <td>2</td>\n",
       "      <td>52200</td>\n",
       "      <td>52200</td>\n",
       "      <td>2607959</td>\n",
       "      <td>Matched</td>\n",
       "      <td>Block</td>\n",
       "      <td>NaN</td>\n",
       "      <td>AURORA BR BETWEEN RAYE ST AND BRIDGE WAY N</td>\n",
       "      <td>NaN</td>\n",
       "      <td>NaN</td>\n",
       "      <td>Property Damage Only Collision</td>\n",
       "      <td>Sideswipe</td>\n",
       "      <td>2</td>\n",
       "      <td>0</td>\n",
       "      <td>0</td>\n",
       "      <td>2</td>\n",
       "      <td>2006/12/20 00:00:00+00</td>\n",
       "      <td>12/20/2006 18:55</td>\n",
       "      <td>Mid-Block (not related to intersection)</td>\n",
       "      <td>16</td>\n",
       "      <td>MOTOR VEHICLE STRUCK MOTOR VEHICLE, LEFT SIDE ...</td>\n",
       "      <td>NaN</td>\n",
       "      <td>N</td>\n",
       "      <td>Raining</td>\n",
       "      <td>Wet</td>\n",
       "      <td>Dark - Street Lights On</td>\n",
       "      <td>NaN</td>\n",
       "      <td>6354039.0</td>\n",
       "      <td>NaN</td>\n",
       "      <td>11</td>\n",
       "      <td>From same direction - both going straight - bo...</td>\n",
       "      <td>0</td>\n",
       "      <td>0</td>\n",
       "      <td>N</td>\n",
       "    </tr>\n",
       "    <tr>\n",
       "      <th>2</th>\n",
       "      <td>1</td>\n",
       "      <td>-122.334540</td>\n",
       "      <td>47.607871</td>\n",
       "      <td>3</td>\n",
       "      <td>26700</td>\n",
       "      <td>26700</td>\n",
       "      <td>1482393</td>\n",
       "      <td>Matched</td>\n",
       "      <td>Block</td>\n",
       "      <td>NaN</td>\n",
       "      <td>4TH AVE BETWEEN SENECA ST AND UNIVERSITY ST</td>\n",
       "      <td>NaN</td>\n",
       "      <td>NaN</td>\n",
       "      <td>Property Damage Only Collision</td>\n",
       "      <td>Parked Car</td>\n",
       "      <td>4</td>\n",
       "      <td>0</td>\n",
       "      <td>0</td>\n",
       "      <td>3</td>\n",
       "      <td>2004/11/18 00:00:00+00</td>\n",
       "      <td>11/18/2004 10:20</td>\n",
       "      <td>Mid-Block (not related to intersection)</td>\n",
       "      <td>14</td>\n",
       "      <td>MOTOR VEHICLE STRUCK MOTOR VEHICLE, REAR END</td>\n",
       "      <td>NaN</td>\n",
       "      <td>N</td>\n",
       "      <td>Overcast</td>\n",
       "      <td>Dry</td>\n",
       "      <td>Daylight</td>\n",
       "      <td>NaN</td>\n",
       "      <td>4323031.0</td>\n",
       "      <td>NaN</td>\n",
       "      <td>32</td>\n",
       "      <td>One parked--one moving</td>\n",
       "      <td>0</td>\n",
       "      <td>0</td>\n",
       "      <td>N</td>\n",
       "    </tr>\n",
       "    <tr>\n",
       "      <th>3</th>\n",
       "      <td>1</td>\n",
       "      <td>-122.334803</td>\n",
       "      <td>47.604803</td>\n",
       "      <td>4</td>\n",
       "      <td>1144</td>\n",
       "      <td>1144</td>\n",
       "      <td>3503937</td>\n",
       "      <td>Matched</td>\n",
       "      <td>Block</td>\n",
       "      <td>NaN</td>\n",
       "      <td>2ND AVE BETWEEN MARION ST AND MADISON ST</td>\n",
       "      <td></td>\n",
       "      <td>NaN</td>\n",
       "      <td>Property Damage Only Collision</td>\n",
       "      <td>Other</td>\n",
       "      <td>3</td>\n",
       "      <td>0</td>\n",
       "      <td>0</td>\n",
       "      <td>3</td>\n",
       "      <td>2013/03/29 00:00:00+00</td>\n",
       "      <td>3/29/2013 9:26</td>\n",
       "      <td>Mid-Block (not related to intersection)</td>\n",
       "      <td>11</td>\n",
       "      <td>MOTOR VEHICLE STRUCK MOTOR VEHICLE, FRONT END ...</td>\n",
       "      <td>NaN</td>\n",
       "      <td>N</td>\n",
       "      <td>Clear</td>\n",
       "      <td>Dry</td>\n",
       "      <td>Daylight</td>\n",
       "      <td>NaN</td>\n",
       "      <td>NaN</td>\n",
       "      <td>NaN</td>\n",
       "      <td>23</td>\n",
       "      <td>From same direction - all others</td>\n",
       "      <td>0</td>\n",
       "      <td>0</td>\n",
       "      <td>N</td>\n",
       "    </tr>\n",
       "    <tr>\n",
       "      <th>4</th>\n",
       "      <td>2</td>\n",
       "      <td>-122.306426</td>\n",
       "      <td>47.545739</td>\n",
       "      <td>5</td>\n",
       "      <td>17700</td>\n",
       "      <td>17700</td>\n",
       "      <td>1807429</td>\n",
       "      <td>Matched</td>\n",
       "      <td>Intersection</td>\n",
       "      <td>34387.0</td>\n",
       "      <td>SWIFT AVE S AND SWIFT AV OFF RP</td>\n",
       "      <td>NaN</td>\n",
       "      <td>NaN</td>\n",
       "      <td>Injury Collision</td>\n",
       "      <td>Angles</td>\n",
       "      <td>2</td>\n",
       "      <td>0</td>\n",
       "      <td>0</td>\n",
       "      <td>2</td>\n",
       "      <td>2004/01/28 00:00:00+00</td>\n",
       "      <td>1/28/2004 8:04</td>\n",
       "      <td>At Intersection_related to intersection</td>\n",
       "      <td>11</td>\n",
       "      <td>MOTOR VEHICLE STRUCK MOTOR VEHICLE, FRONT END ...</td>\n",
       "      <td>NaN</td>\n",
       "      <td>N</td>\n",
       "      <td>Raining</td>\n",
       "      <td>Wet</td>\n",
       "      <td>Daylight</td>\n",
       "      <td>NaN</td>\n",
       "      <td>4028032.0</td>\n",
       "      <td>NaN</td>\n",
       "      <td>10</td>\n",
       "      <td>Entering at angle</td>\n",
       "      <td>0</td>\n",
       "      <td>0</td>\n",
       "      <td>N</td>\n",
       "    </tr>\n",
       "  </tbody>\n",
       "</table>\n",
       "</div>"
      ],
      "text/plain": [
       "   SEVERITYCODE   longitude   latitude  OBJECTID  INCKEY  COLDETKEY REPORTNO  \\\n",
       "0             2 -122.323148  47.703140         1    1307       1307  3502005   \n",
       "1             1 -122.347294  47.647172         2   52200      52200  2607959   \n",
       "2             1 -122.334540  47.607871         3   26700      26700  1482393   \n",
       "3             1 -122.334803  47.604803         4    1144       1144  3503937   \n",
       "4             2 -122.306426  47.545739         5   17700      17700  1807429   \n",
       "\n",
       "    STATUS      ADDRTYPE   INTKEY  \\\n",
       "0  Matched  Intersection  37475.0   \n",
       "1  Matched         Block      NaN   \n",
       "2  Matched         Block      NaN   \n",
       "3  Matched         Block      NaN   \n",
       "4  Matched  Intersection  34387.0   \n",
       "\n",
       "                                      LOCATION EXCEPTRSNCODE EXCEPTRSNDESC  \\\n",
       "0                   5TH AVE NE AND NE 103RD ST                         NaN   \n",
       "1   AURORA BR BETWEEN RAYE ST AND BRIDGE WAY N           NaN           NaN   \n",
       "2  4TH AVE BETWEEN SENECA ST AND UNIVERSITY ST           NaN           NaN   \n",
       "3     2ND AVE BETWEEN MARION ST AND MADISON ST                         NaN   \n",
       "4              SWIFT AVE S AND SWIFT AV OFF RP           NaN           NaN   \n",
       "\n",
       "                     SEVERITYDESC COLLISIONTYPE  PERSONCOUNT  PEDCOUNT  \\\n",
       "0                Injury Collision        Angles            2         0   \n",
       "1  Property Damage Only Collision     Sideswipe            2         0   \n",
       "2  Property Damage Only Collision    Parked Car            4         0   \n",
       "3  Property Damage Only Collision         Other            3         0   \n",
       "4                Injury Collision        Angles            2         0   \n",
       "\n",
       "   PEDCYLCOUNT  VEHCOUNT                 INCDATE           INCDTTM  \\\n",
       "0            0         2  2013/03/27 00:00:00+00   3/27/2013 14:54   \n",
       "1            0         2  2006/12/20 00:00:00+00  12/20/2006 18:55   \n",
       "2            0         3  2004/11/18 00:00:00+00  11/18/2004 10:20   \n",
       "3            0         3  2013/03/29 00:00:00+00    3/29/2013 9:26   \n",
       "4            0         2  2004/01/28 00:00:00+00    1/28/2004 8:04   \n",
       "\n",
       "                              JUNCTIONTYPE  SDOT_COLCODE  \\\n",
       "0  At Intersection_related to intersection            11   \n",
       "1  Mid-Block (not related to intersection)            16   \n",
       "2  Mid-Block (not related to intersection)            14   \n",
       "3  Mid-Block (not related to intersection)            11   \n",
       "4  At Intersection_related to intersection            11   \n",
       "\n",
       "                                        SDOT_COLDESC INATTENTIONIND UNDERINFL  \\\n",
       "0  MOTOR VEHICLE STRUCK MOTOR VEHICLE, FRONT END ...            NaN         N   \n",
       "1  MOTOR VEHICLE STRUCK MOTOR VEHICLE, LEFT SIDE ...            NaN         N   \n",
       "2       MOTOR VEHICLE STRUCK MOTOR VEHICLE, REAR END            NaN         N   \n",
       "3  MOTOR VEHICLE STRUCK MOTOR VEHICLE, FRONT END ...            NaN         N   \n",
       "4  MOTOR VEHICLE STRUCK MOTOR VEHICLE, FRONT END ...            NaN         N   \n",
       "\n",
       "    WEATHER ROADCOND                LIGHTCOND PEDROWNOTGRNT  SDOTCOLNUM  \\\n",
       "0  Overcast      Wet                 Daylight           NaN         NaN   \n",
       "1   Raining      Wet  Dark - Street Lights On           NaN   6354039.0   \n",
       "2  Overcast      Dry                 Daylight           NaN   4323031.0   \n",
       "3     Clear      Dry                 Daylight           NaN         NaN   \n",
       "4   Raining      Wet                 Daylight           NaN   4028032.0   \n",
       "\n",
       "  SPEEDING ST_COLCODE                                         ST_COLDESC  \\\n",
       "0      NaN         10                                  Entering at angle   \n",
       "1      NaN         11  From same direction - both going straight - bo...   \n",
       "2      NaN         32                             One parked--one moving   \n",
       "3      NaN         23                   From same direction - all others   \n",
       "4      NaN         10                                  Entering at angle   \n",
       "\n",
       "   SEGLANEKEY  CROSSWALKKEY HITPARKEDCAR  \n",
       "0           0             0            N  \n",
       "1           0             0            N  \n",
       "2           0             0            N  \n",
       "3           0             0            N  \n",
       "4           0             0            N  "
      ]
     },
     "execution_count": 6,
     "metadata": {},
     "output_type": "execute_result"
    }
   ],
   "source": [
    "# Reading the CSV file \"Data-Collisions\"\n",
    "\n",
    "df = pd.read_csv (r\"C:\\Users\\salma\\Desktop\\Data-Collisions.csv\")\n",
    "df.info()\n",
    "pd.options.display.max_columns=200\n",
    "df.head()"
   ]
  },
  {
   "cell_type": "markdown",
   "metadata": {
    "pycharm": {
     "name": "#%% md\n"
    },
    "slideshow": {
     "slide_type": "slide"
    }
   },
   "source": [
    "#### Checking the percentage (%) of missing values in the columns"
   ]
  },
  {
   "cell_type": "code",
   "execution_count": 7,
   "metadata": {
    "pycharm": {
     "name": "#%%\n"
    },
    "scrolled": true
   },
   "outputs": [
    {
     "data": {
      "text/plain": [
       "SEVERITYCODE       0.00\n",
       "longitude          2.74\n",
       "latitude           2.74\n",
       "OBJECTID           0.00\n",
       "INCKEY             0.00\n",
       "COLDETKEY          0.00\n",
       "REPORTNO           0.00\n",
       "STATUS             0.00\n",
       "ADDRTYPE           0.99\n",
       "INTKEY            66.57\n",
       "LOCATION           1.38\n",
       "EXCEPTRSNCODE     56.43\n",
       "EXCEPTRSNDESC     97.10\n",
       "SEVERITYDESC       0.00\n",
       "COLLISIONTYPE      2.52\n",
       "PERSONCOUNT        0.00\n",
       "PEDCOUNT           0.00\n",
       "PEDCYLCOUNT        0.00\n",
       "VEHCOUNT           0.00\n",
       "INCDATE            0.00\n",
       "INCDTTM            0.00\n",
       "JUNCTIONTYPE       3.25\n",
       "SDOT_COLCODE       0.00\n",
       "SDOT_COLDESC       0.00\n",
       "INATTENTIONIND    84.69\n",
       "UNDERINFL          2.51\n",
       "WEATHER            2.61\n",
       "ROADCOND           2.57\n",
       "LIGHTCOND          2.66\n",
       "PEDROWNOTGRNT     97.60\n",
       "SDOTCOLNUM        40.96\n",
       "SPEEDING          95.21\n",
       "ST_COLCODE         0.01\n",
       "ST_COLDESC         2.52\n",
       "SEGLANEKEY         0.00\n",
       "CROSSWALKKEY       0.00\n",
       "HITPARKEDCAR       0.00\n",
       "dtype: float64"
      ]
     },
     "execution_count": 7,
     "metadata": {},
     "output_type": "execute_result"
    }
   ],
   "source": [
    "df.isna().mean().round(4) * 100"
   ]
  },
  {
   "cell_type": "code",
   "execution_count": 8,
   "metadata": {},
   "outputs": [
    {
     "data": {
      "text/plain": [
       "(194673, 37)"
      ]
     },
     "execution_count": 8,
     "metadata": {},
     "output_type": "execute_result"
    }
   ],
   "source": [
    "df.shape"
   ]
  },
  {
   "cell_type": "markdown",
   "metadata": {
    "pycharm": {
     "name": "#%% md\n"
    },
    "slideshow": {
     "slide_type": "slide"
    }
   },
   "source": [
    "#### Checking the list of features to include"
   ]
  },
  {
   "cell_type": "code",
   "execution_count": 9,
   "metadata": {
    "pycharm": {
     "name": "#%%\n"
    }
   },
   "outputs": [],
   "source": [
    "numeric_features = df[[\"PERSONCOUNT\",\"PEDCOUNT\",\"PEDCYLCOUNT\", \"VEHCOUNT\", \"SEVERITYCODE\"]]\n",
    "\n",
    "categorical_features=df[[\"ADDRTYPE\",\"LOCATION\",\"COLLISIONTYPE\", \"INCDATE\",\"INCDTTM\",\"JUNCTIONTYPE\",\n",
    "                         \"SDOT_COLDESC\", \"UNDERINFL\", \"WEATHER\", \"ROADCOND\", \"LIGHTCOND\", \"ST_COLDESC\", \"HITPARKEDCAR\"]]"
   ]
  },
  {
   "cell_type": "markdown",
   "metadata": {
    "pycharm": {
     "name": "#%% md\n"
    },
    "slideshow": {
     "slide_type": "slide"
    }
   },
   "source": [
    "#### Checking the Target Variable"
   ]
  },
  {
   "cell_type": "code",
   "execution_count": 10,
   "metadata": {
    "pycharm": {
     "name": "#%%\n"
    }
   },
   "outputs": [
    {
     "data": {
      "text/plain": [
       "1    136485\n",
       "2     58188\n",
       "Name: SEVERITYCODE, dtype: int64"
      ]
     },
     "execution_count": 10,
     "metadata": {},
     "output_type": "execute_result"
    }
   ],
   "source": [
    "df[\"SEVERITYCODE\"].value_counts()"
   ]
  },
  {
   "cell_type": "markdown",
   "metadata": {
    "pycharm": {
     "name": "#%% md\n"
    },
    "slideshow": {
     "slide_type": "slide"
    }
   },
   "source": [
    "#### Description of the Numeric Features"
   ]
  },
  {
   "cell_type": "code",
   "execution_count": 11,
   "metadata": {
    "pycharm": {
     "name": "#%%\n"
    },
    "scrolled": true
   },
   "outputs": [
    {
     "data": {
      "text/html": [
       "<div>\n",
       "<style scoped>\n",
       "    .dataframe tbody tr th:only-of-type {\n",
       "        vertical-align: middle;\n",
       "    }\n",
       "\n",
       "    .dataframe tbody tr th {\n",
       "        vertical-align: top;\n",
       "    }\n",
       "\n",
       "    .dataframe thead th {\n",
       "        text-align: right;\n",
       "    }\n",
       "</style>\n",
       "<table border=\"1\" class=\"dataframe\">\n",
       "  <thead>\n",
       "    <tr style=\"text-align: right;\">\n",
       "      <th></th>\n",
       "      <th>PERSONCOUNT</th>\n",
       "      <th>PEDCOUNT</th>\n",
       "      <th>PEDCYLCOUNT</th>\n",
       "      <th>VEHCOUNT</th>\n",
       "      <th>SEVERITYCODE</th>\n",
       "    </tr>\n",
       "  </thead>\n",
       "  <tbody>\n",
       "    <tr>\n",
       "      <th>count</th>\n",
       "      <td>194673.000000</td>\n",
       "      <td>194673.000000</td>\n",
       "      <td>194673.000000</td>\n",
       "      <td>194673.000000</td>\n",
       "      <td>194673.000000</td>\n",
       "    </tr>\n",
       "    <tr>\n",
       "      <th>mean</th>\n",
       "      <td>2.444427</td>\n",
       "      <td>0.037139</td>\n",
       "      <td>0.028391</td>\n",
       "      <td>1.920780</td>\n",
       "      <td>1.298901</td>\n",
       "    </tr>\n",
       "    <tr>\n",
       "      <th>std</th>\n",
       "      <td>1.345929</td>\n",
       "      <td>0.198150</td>\n",
       "      <td>0.167413</td>\n",
       "      <td>0.631047</td>\n",
       "      <td>0.457778</td>\n",
       "    </tr>\n",
       "    <tr>\n",
       "      <th>min</th>\n",
       "      <td>0.000000</td>\n",
       "      <td>0.000000</td>\n",
       "      <td>0.000000</td>\n",
       "      <td>0.000000</td>\n",
       "      <td>1.000000</td>\n",
       "    </tr>\n",
       "    <tr>\n",
       "      <th>25%</th>\n",
       "      <td>2.000000</td>\n",
       "      <td>0.000000</td>\n",
       "      <td>0.000000</td>\n",
       "      <td>2.000000</td>\n",
       "      <td>1.000000</td>\n",
       "    </tr>\n",
       "    <tr>\n",
       "      <th>50%</th>\n",
       "      <td>2.000000</td>\n",
       "      <td>0.000000</td>\n",
       "      <td>0.000000</td>\n",
       "      <td>2.000000</td>\n",
       "      <td>1.000000</td>\n",
       "    </tr>\n",
       "    <tr>\n",
       "      <th>75%</th>\n",
       "      <td>3.000000</td>\n",
       "      <td>0.000000</td>\n",
       "      <td>0.000000</td>\n",
       "      <td>2.000000</td>\n",
       "      <td>2.000000</td>\n",
       "    </tr>\n",
       "    <tr>\n",
       "      <th>max</th>\n",
       "      <td>81.000000</td>\n",
       "      <td>6.000000</td>\n",
       "      <td>2.000000</td>\n",
       "      <td>12.000000</td>\n",
       "      <td>2.000000</td>\n",
       "    </tr>\n",
       "  </tbody>\n",
       "</table>\n",
       "</div>"
      ],
      "text/plain": [
       "         PERSONCOUNT       PEDCOUNT    PEDCYLCOUNT       VEHCOUNT  \\\n",
       "count  194673.000000  194673.000000  194673.000000  194673.000000   \n",
       "mean        2.444427       0.037139       0.028391       1.920780   \n",
       "std         1.345929       0.198150       0.167413       0.631047   \n",
       "min         0.000000       0.000000       0.000000       0.000000   \n",
       "25%         2.000000       0.000000       0.000000       2.000000   \n",
       "50%         2.000000       0.000000       0.000000       2.000000   \n",
       "75%         3.000000       0.000000       0.000000       2.000000   \n",
       "max        81.000000       6.000000       2.000000      12.000000   \n",
       "\n",
       "        SEVERITYCODE  \n",
       "count  194673.000000  \n",
       "mean        1.298901  \n",
       "std         0.457778  \n",
       "min         1.000000  \n",
       "25%         1.000000  \n",
       "50%         1.000000  \n",
       "75%         2.000000  \n",
       "max         2.000000  "
      ]
     },
     "execution_count": 11,
     "metadata": {},
     "output_type": "execute_result"
    }
   ],
   "source": [
    "numeric_features.describe()"
   ]
  },
  {
   "cell_type": "markdown",
   "metadata": {
    "pycharm": {
     "name": "#%% md\n"
    },
    "slideshow": {
     "slide_type": "slide"
    }
   },
   "source": [
    "#### Numeric Features Distribution"
   ]
  },
  {
   "cell_type": "code",
   "execution_count": 12,
   "metadata": {
    "pycharm": {
     "name": "#%%\n"
    }
   },
   "outputs": [
    {
     "data": {
      "text/plain": [
       "array([[<AxesSubplot:title={'center':'PERSONCOUNT'}>,\n",
       "        <AxesSubplot:title={'center':'PEDCOUNT'}>],\n",
       "       [<AxesSubplot:title={'center':'PEDCYLCOUNT'}>,\n",
       "        <AxesSubplot:title={'center':'VEHCOUNT'}>],\n",
       "       [<AxesSubplot:title={'center':'SEVERITYCODE'}>, <AxesSubplot:>]],\n",
       "      dtype=object)"
      ]
     },
     "execution_count": 12,
     "metadata": {},
     "output_type": "execute_result"
    },
    {
     "data": {
      "text/plain": [
       "Text(0.5, 0.98, 'Numeric features distribution')"
      ]
     },
     "execution_count": 12,
     "metadata": {},
     "output_type": "execute_result"
    },
    {
     "data": {
      "image/png": "[encoded data removed]",
      "text/plain": [
       "<Figure size 576x576 with 6 Axes>"
      ]
     },
     "metadata": {
      "needs_background": "light"
     },
     "output_type": "display_data"
    }
   ],
   "source": [
    "numeric_features.hist(figsize=[8,8])\n",
    "plt.suptitle(\"Numeric features distribution\")\n",
    "plt.show()"
   ]
  },
  {
   "cell_type": "markdown",
   "metadata": {
    "pycharm": {
     "name": "#%% md\n"
    },
    "slideshow": {
     "slide_type": "slide"
    }
   },
   "source": [
    "#### Plotting the under Influence of alcohol along with the person count"
   ]
  },
  {
   "cell_type": "code",
   "execution_count": 13,
   "metadata": {
    "pycharm": {
     "name": "#%%\n"
    },
    "scrolled": true
   },
   "outputs": [
    {
     "data": {
      "text/plain": [
       "<AxesSubplot:xlabel='UNDERINFL', ylabel='PERSONCOUNT'>"
      ]
     },
     "execution_count": 13,
     "metadata": {},
     "output_type": "execute_result"
    },
    {
     "data": {
      "image/png": "[encoded data removed]",
      "text/plain": [
       "<Figure size 432x288 with 1 Axes>"
      ]
     },
     "metadata": {
      "needs_background": "light"
     },
     "output_type": "display_data"
    }
   ],
   "source": [
    "sns.boxplot(x='UNDERINFL',y='PERSONCOUNT',data=df)\n",
    "plt.show()"
   ]
  },
  {
   "cell_type": "markdown",
   "metadata": {
    "pycharm": {
     "name": "#%% md\n"
    },
    "slideshow": {
     "slide_type": "slide"
    }
   },
   "source": [
    "### Data Preparation\n",
    "\n",
    "#### Categorical Features percentage (%) of samples from the selected Data"
   ]
  },
  {
   "cell_type": "markdown",
   "metadata": {
    "slideshow": {
     "slide_type": "slide"
    }
   },
   "source": [
    "##### \"COLLISIONTYPE\""
   ]
  },
  {
   "cell_type": "code",
   "execution_count": 29,
   "metadata": {
    "pycharm": {
     "name": "#%%\n"
    }
   },
   "outputs": [
    {
     "name": "stdout",
     "output_type": "stream",
     "text": [
      "            counts Percent\n",
      "Parked Car   47987   25.3%\n",
      "Angles       34674   18.3%\n",
      "Rear Ended   34090   18.0%\n",
      "Other        23703   12.5%\n",
      "Sideswipe    18609    9.8%\n",
      "Left Turn    13703    7.2%\n",
      "Pedestrian    6608    3.5%\n",
      "Cycles        5415    2.9%\n",
      "Right Turn    2956    1.6%\n",
      "Head On       2024    1.1%\n"
     ]
    }
   ],
   "source": [
    "counts = categorical_features[\"COLLISIONTYPE\"].value_counts()\n",
    "percent100 = categorical_features[\"COLLISIONTYPE\"].value_counts(normalize=True).mul(100).round(1).astype(str) + '%'\n",
    "collision=pd.DataFrame({'counts': counts, 'Percent': percent100})\n",
    "print(collision)"
   ]
  },
  {
   "cell_type": "markdown",
   "metadata": {
    "pycharm": {
     "name": "#%% md\n"
    },
    "slideshow": {
     "slide_type": "slide"
    }
   },
   "source": [
    "##### \"LIGHTCOND\""
   ]
  },
  {
   "cell_type": "code",
   "execution_count": 14,
   "metadata": {
    "pycharm": {
     "name": "#%%\n"
    }
   },
   "outputs": [
    {
     "name": "stdout",
     "output_type": "stream",
     "text": [
      "                          counts Percent\n",
      "Daylight                  116137   61.3%\n",
      "Dark - Street Lights On    48507   25.6%\n",
      "Unknown                    13473    7.1%\n",
      "Dusk                        5902    3.1%\n",
      "Dawn                        2502    1.3%\n",
      "Dark - No Street Lights     1537    0.8%\n",
      "Dark - Street Lights Off    1199    0.6%\n",
      "Other                        235    0.1%\n",
      "Dark - Unknown Lighting       11    0.0%\n"
     ]
    }
   ],
   "source": [
    "counts = categorical_features[\"LIGHTCOND\"].value_counts()\n",
    "percent100 = categorical_features[\"LIGHTCOND\"].value_counts(normalize=True).mul(100).round(1).astype(str) + '%'\n",
    "light_conditions=pd.DataFrame({'counts': counts, 'Percent': percent100})\n",
    "print(light_conditions)"
   ]
  },
  {
   "cell_type": "markdown",
   "metadata": {
    "pycharm": {
     "name": "#%% md\n"
    },
    "slideshow": {
     "slide_type": "slide"
    }
   },
   "source": [
    "##### \"ROADCOND\""
   ]
  },
  {
   "cell_type": "code",
   "execution_count": 15,
   "metadata": {
    "pycharm": {
     "name": "#%%\n"
    },
    "scrolled": true
   },
   "outputs": [
    {
     "name": "stdout",
     "output_type": "stream",
     "text": [
      "                counts Percent\n",
      "Dry             124510   65.6%\n",
      "Wet              47474   25.0%\n",
      "Unknown          15078    7.9%\n",
      "Ice               1209    0.6%\n",
      "Snow/Slush        1004    0.5%\n",
      "Other              132    0.1%\n",
      "Standing Water     115    0.1%\n",
      "Sand/Mud/Dirt       75    0.0%\n",
      "Oil                 64    0.0%\n"
     ]
    }
   ],
   "source": [
    "counts = categorical_features[\"ROADCOND\"].value_counts()\n",
    "percent100 = categorical_features[\"ROADCOND\"].value_counts(normalize=True).mul(100).round(1).astype(str) + '%'\n",
    "road_condition=pd.DataFrame({'counts': counts, 'Percent': percent100})\n",
    "print(road_condition)"
   ]
  },
  {
   "cell_type": "markdown",
   "metadata": {
    "pycharm": {
     "name": "#%% md\n"
    },
    "slideshow": {
     "slide_type": "slide"
    }
   },
   "source": [
    "##### \"SDOT_COLDESC\""
   ]
  },
  {
   "cell_type": "code",
   "execution_count": 16,
   "metadata": {
    "pycharm": {
     "name": "#%%\n"
    }
   },
   "outputs": [
    {
     "name": "stdout",
     "output_type": "stream",
     "text": [
      "                                                    counts Percent\n",
      "MOTOR VEHICLE STRUCK MOTOR VEHICLE, FRONT END A...   85209   43.8%\n",
      "MOTOR VEHICLE STRUCK MOTOR VEHICLE, REAR END         54299   27.9%\n",
      "MOTOR VEHICLE STRUCK MOTOR VEHICLE, LEFT SIDE S...    9928    5.1%\n",
      "NOT ENOUGH INFORMATION / NOT APPLICABLE               9787    5.0%\n",
      "MOTOR VEHICLE RAN OFF ROAD - HIT FIXED OBJECT         8856    4.5%\n",
      "MOTOR VEHCILE STRUCK PEDESTRIAN                       6518    3.3%\n",
      "MOTOR VEHICLE STRUCK MOTOR VEHICLE, LEFT SIDE A...    5852    3.0%\n",
      "MOTOR VEHICLE STRUCK OBJECT IN ROAD                   4741    2.4%\n",
      "MOTOR VEHICLE STRUCK PEDALCYCLIST, FRONT END AT...    3104    1.6%\n",
      "MOTOR VEHICLE STRUCK MOTOR VEHICLE, RIGHT SIDE ...    1604    0.8%\n",
      "MOTOR VEHICLE STRUCK MOTOR VEHICLE, RIGHT SIDE ...    1440    0.7%\n",
      "PEDALCYCLIST STRUCK MOTOR VEHICLE FRONT END AT ...    1312    0.7%\n",
      "MOTOR VEHICLE OVERTURNED IN ROAD                       479    0.2%\n",
      "MOTOR VEHICLE STRUCK PEDALCYCLIST, REAR END            181    0.1%\n",
      "PEDALCYCLIST STRUCK MOTOR VEHICLE LEFT SIDE SID...     180    0.1%\n",
      "MOTOR VEHICLE RAN OFF ROAD - NO COLLISION              166    0.1%\n",
      "PEDALCYCLIST STRUCK MOTOR VEHICLE REAR END             139    0.1%\n",
      "MOTOR VEHICLE STRUCK PEDALCYCLIST, LEFT SIDE SI...     124    0.1%\n",
      "DRIVERLESS VEHICLE RAN OFF ROAD - HIT FIXED OBJECT     107    0.1%\n",
      "DRIVERLESS VEHICLE STRUCK MOTOR VEHICLE FRONT E...     104    0.1%\n",
      "MOTOR VEHICLE STRUCK TRAIN                             102    0.1%\n",
      "DRIVERLESS VEHICLE STRUCK MOTOR VEHICLE REAR END        93    0.0%\n",
      "PEDALCYCLIST STRUCK PEDESTRIAN                          75    0.0%\n",
      "PEDALCYCLIST OVERTURNED IN ROAD                         69    0.0%\n",
      "DRIVERLESS VEHICLE STRUCK MOTOR VEHICLE LEFT SI...      53    0.0%\n",
      "PEDALCYCLIST STRUCK MOTOR VEHICLE RIGHT SIDE SI...      50    0.0%\n",
      "PEDALCYCLIST STRUCK OBJECT IN ROAD                      23    0.0%\n",
      "MOTOR VEHICLE STRUCK PEDALCYCLIST, RIGHT SIDE S...      17    0.0%\n",
      "DRIVERLESS VEHICLE STRUCK MOTOR VEHICLE RIGHT S...      12    0.0%\n",
      "PEDALCYCLIST STRUCK MOTOR VEHICLE LEFT SIDE AT ...       9    0.0%\n",
      "DRIVERLESS VEHICLE STRUCK PEDESTRIAN                     8    0.0%\n",
      "PEDALCYCLIST STRUCK PEDALCYCLIST REAR END                7    0.0%\n",
      "DRIVERLESS VEHICLE STRUCK MOTOR VEHICLE RIGHT S...       6    0.0%\n",
      "PEDALCYCLIST STRUCK PEDALCYCLIST FRONT END AT A...       5    0.0%\n",
      "PEDALCYCLIST RAN OFF ROAD - HIT FIXED OBJECT             4    0.0%\n",
      "DRIVERLESS VEHICLE STRUCK MOTOR VEHICLE LEFT SI...       4    0.0%\n",
      "DRIVERLESS VEHICLE STRUCK OBJECT IN ROADWAY              3    0.0%\n",
      "PEDALCYCLIST STRUCK MOTOR VEHICLE RIGHT SIDE AT...       2    0.0%\n",
      "DRIVERLESS VEHICLE RAN OFF ROAD - NO COLLISION           1    0.0%\n"
     ]
    }
   ],
   "source": [
    "counts = categorical_features[\"SDOT_COLDESC\"].value_counts()\n",
    "percent100 = categorical_features[\"SDOT_COLDESC\"].value_counts(normalize=True).mul(100).round(1).astype(str) + '%'\n",
    "collision_desc=pd.DataFrame({'counts': counts, 'Percent': percent100})\n",
    "print(collision_desc)"
   ]
  },
  {
   "cell_type": "markdown",
   "metadata": {
    "pycharm": {
     "name": "#%% md\n"
    },
    "slideshow": {
     "slide_type": "slide"
    }
   },
   "source": [
    "##### \"WEATHER\""
   ]
  },
  {
   "cell_type": "code",
   "execution_count": 17,
   "metadata": {
    "pycharm": {
     "name": "#%%\n"
    },
    "scrolled": true
   },
   "outputs": [
    {
     "name": "stdout",
     "output_type": "stream",
     "text": [
      "                          counts Percent\n",
      "Clear                     111135   58.6%\n",
      "Raining                    33145   17.5%\n",
      "Overcast                   27714   14.6%\n",
      "Unknown                    15091    8.0%\n",
      "Snowing                      907    0.5%\n",
      "Other                        832    0.4%\n",
      "Fog/Smog/Smoke               569    0.3%\n",
      "Sleet/Hail/Freezing Rain     113    0.1%\n",
      "Blowing Sand/Dirt             56    0.0%\n",
      "Severe Crosswind              25    0.0%\n",
      "Partly Cloudy                  5    0.0%\n"
     ]
    }
   ],
   "source": [
    "counts = categorical_features[\"WEATHER\"].value_counts()\n",
    "percent100 = categorical_features[\"WEATHER\"].value_counts(normalize=True).mul(100).round(1).astype(str) + '%'\n",
    "weather=pd.DataFrame({'counts': counts, 'Percent': percent100})\n",
    "print(weather)"
   ]
  },
  {
   "cell_type": "markdown",
   "metadata": {
    "pycharm": {
     "name": "#%% md\n"
    },
    "slideshow": {
     "slide_type": "slide"
    }
   },
   "source": [
    "##### \"JUNCTIONTYPE\""
   ]
  },
  {
   "cell_type": "code",
   "execution_count": 18,
   "metadata": {
    "pycharm": {
     "name": "#%%\n"
    }
   },
   "outputs": [
    {
     "name": "stdout",
     "output_type": "stream",
     "text": [
      "                                             counts Percent\n",
      "Mid-Block (not related to intersection)       89800   47.7%\n",
      "At Intersection_related to intersection       62810   33.3%\n",
      "Mid-Block (but intersection related)          22790   12.1%\n",
      "Driveway Junction                             10671    5.7%\n",
      "At Intersection_not related to intersection    2098    1.1%\n",
      "Ramp Junction                                   166    0.1%\n",
      "Unknown                                           9    0.0%\n"
     ]
    }
   ],
   "source": [
    "counts = categorical_features[\"JUNCTIONTYPE\"].value_counts()\n",
    "percent100 = categorical_features[\"JUNCTIONTYPE\"].value_counts(normalize=True).mul(100).round(1).astype(str) + '%'\n",
    "junction=pd.DataFrame({'counts': counts, 'Percent': percent100})\n",
    "print(junction)"
   ]
  },
  {
   "cell_type": "markdown",
   "metadata": {
    "pycharm": {
     "name": "#%% md\n"
    }
   },
   "source": [
    "##### \"UNDERINFL\""
   ]
  },
  {
   "cell_type": "code",
   "execution_count": 19,
   "metadata": {
    "pycharm": {
     "name": "#%%\n"
    },
    "scrolled": true
   },
   "outputs": [
    {
     "name": "stdout",
     "output_type": "stream",
     "text": [
      "   counts Percent\n",
      "N  180668   95.2%\n",
      "Y    9121    4.8%\n"
     ]
    }
   ],
   "source": [
    "counts = categorical_features[\"UNDERINFL\"].value_counts()\n",
    "percent100 = categorical_features[\"UNDERINFL\"].value_counts(normalize=True).mul(100).round(1).astype(str) + '%'\n",
    "under_influence=pd.DataFrame({'counts': counts, 'Percent': percent100})\n",
    "print(under_influence)"
   ]
  },
  {
   "cell_type": "markdown",
   "metadata": {
    "pycharm": {
     "name": "#%% md\n"
    },
    "slideshow": {
     "slide_type": "slide"
    }
   },
   "source": [
    "#### Formatting the Date & time for the analysis"
   ]
  },
  {
   "cell_type": "code",
   "execution_count": 20,
   "metadata": {
    "pycharm": {
     "name": "#%%\n"
    }
   },
   "outputs": [],
   "source": [
    "df['INCDTTM'] = pd.to_datetime(df['INCDTTM'], errors='coerce')\n",
    "df['Year']=df['INCDTTM'].dt.year\n",
    "df['Month']=df['INCDTTM'].dt.strftime('%b')\n",
    "df['Day']=df['INCDTTM'].dt.day\n",
    "df['Hour']=df['INCDTTM'].dt.hour\n",
    "df['Weekday']=df['INCDTTM'].dt.strftime('%a')"
   ]
  },
  {
   "cell_type": "markdown",
   "metadata": {
    "pycharm": {
     "name": "#%% md\n"
    },
    "slideshow": {
     "slide_type": "slide"
    }
   },
   "source": [
    "#### Scatter plot of the accident coordinates"
   ]
  },
  {
   "cell_type": "code",
   "execution_count": 36,
   "metadata": {
    "pycharm": {
     "name": "#%%\n"
    }
   },
   "outputs": [
    {
     "data": {
      "text/plain": [
       "<AxesSubplot:xlabel='longitude', ylabel='latitude'>"
      ]
     },
     "execution_count": 36,
     "metadata": {},
     "output_type": "execute_result"
    },
    {
     "data": {
      "image/png": "[encoded data removed]",
      "text/plain": [
       "<Figure size 864x576 with 1 Axes>"
      ]
     },
     "metadata": {
      "needs_background": "light"
     },
     "output_type": "display_data"
    }
   ],
   "source": [
    "fig = plt.gcf()\n",
    "fig.set_size_inches(12, 8)\n",
    "sns.scatterplot(x='longitude', y='latitude', data=df, legend=False, s=20)\n",
    "plt.show()"
   ]
  },
  {
   "cell_type": "markdown",
   "metadata": {
    "pycharm": {
     "name": "#%% md\n"
    },
    "slideshow": {
     "slide_type": "slide"
    }
   },
   "source": [
    "#### Checking the Null values in the Dataframe"
   ]
  },
  {
   "cell_type": "code",
   "execution_count": 38,
   "metadata": {
    "pycharm": {
     "name": "#%%\n"
    },
    "scrolled": true
   },
   "outputs": [
    {
     "data": {
      "text/html": [
       "<div>\n",
       "<style scoped>\n",
       "    .dataframe tbody tr th:only-of-type {\n",
       "        vertical-align: middle;\n",
       "    }\n",
       "\n",
       "    .dataframe tbody tr th {\n",
       "        vertical-align: top;\n",
       "    }\n",
       "\n",
       "    .dataframe thead th {\n",
       "        text-align: right;\n",
       "    }\n",
       "</style>\n",
       "<table border=\"1\" class=\"dataframe\">\n",
       "  <thead>\n",
       "    <tr style=\"text-align: right;\">\n",
       "      <th></th>\n",
       "      <th>SEVERITYCODE</th>\n",
       "      <th>longitude</th>\n",
       "      <th>latitude</th>\n",
       "      <th>OBJECTID</th>\n",
       "      <th>INCKEY</th>\n",
       "      <th>COLDETKEY</th>\n",
       "      <th>REPORTNO</th>\n",
       "      <th>STATUS</th>\n",
       "      <th>ADDRTYPE</th>\n",
       "      <th>INTKEY</th>\n",
       "      <th>LOCATION</th>\n",
       "      <th>EXCEPTRSNCODE</th>\n",
       "      <th>EXCEPTRSNDESC</th>\n",
       "      <th>SEVERITYDESC</th>\n",
       "      <th>COLLISIONTYPE</th>\n",
       "      <th>PERSONCOUNT</th>\n",
       "      <th>PEDCOUNT</th>\n",
       "      <th>PEDCYLCOUNT</th>\n",
       "      <th>VEHCOUNT</th>\n",
       "      <th>INCDATE</th>\n",
       "      <th>INCDTTM</th>\n",
       "      <th>JUNCTIONTYPE</th>\n",
       "      <th>SDOT_COLCODE</th>\n",
       "      <th>SDOT_COLDESC</th>\n",
       "      <th>INATTENTIONIND</th>\n",
       "      <th>UNDERINFL</th>\n",
       "      <th>WEATHER</th>\n",
       "      <th>ROADCOND</th>\n",
       "      <th>LIGHTCOND</th>\n",
       "      <th>PEDROWNOTGRNT</th>\n",
       "      <th>SDOTCOLNUM</th>\n",
       "      <th>SPEEDING</th>\n",
       "      <th>ST_COLCODE</th>\n",
       "      <th>ST_COLDESC</th>\n",
       "      <th>SEGLANEKEY</th>\n",
       "      <th>CROSSWALKKEY</th>\n",
       "      <th>HITPARKEDCAR</th>\n",
       "      <th>Year</th>\n",
       "      <th>Month</th>\n",
       "      <th>Day</th>\n",
       "      <th>Hour</th>\n",
       "      <th>Weekday</th>\n",
       "    </tr>\n",
       "  </thead>\n",
       "  <tbody>\n",
       "    <tr>\n",
       "      <th>0</th>\n",
       "      <td>False</td>\n",
       "      <td>False</td>\n",
       "      <td>False</td>\n",
       "      <td>False</td>\n",
       "      <td>False</td>\n",
       "      <td>False</td>\n",
       "      <td>False</td>\n",
       "      <td>False</td>\n",
       "      <td>False</td>\n",
       "      <td>False</td>\n",
       "      <td>False</td>\n",
       "      <td>False</td>\n",
       "      <td>True</td>\n",
       "      <td>False</td>\n",
       "      <td>False</td>\n",
       "      <td>False</td>\n",
       "      <td>False</td>\n",
       "      <td>False</td>\n",
       "      <td>False</td>\n",
       "      <td>False</td>\n",
       "      <td>False</td>\n",
       "      <td>False</td>\n",
       "      <td>False</td>\n",
       "      <td>False</td>\n",
       "      <td>True</td>\n",
       "      <td>False</td>\n",
       "      <td>False</td>\n",
       "      <td>False</td>\n",
       "      <td>False</td>\n",
       "      <td>True</td>\n",
       "      <td>True</td>\n",
       "      <td>True</td>\n",
       "      <td>False</td>\n",
       "      <td>False</td>\n",
       "      <td>False</td>\n",
       "      <td>False</td>\n",
       "      <td>False</td>\n",
       "      <td>False</td>\n",
       "      <td>False</td>\n",
       "      <td>False</td>\n",
       "      <td>False</td>\n",
       "      <td>False</td>\n",
       "    </tr>\n",
       "    <tr>\n",
       "      <th>1</th>\n",
       "      <td>False</td>\n",
       "      <td>False</td>\n",
       "      <td>False</td>\n",
       "      <td>False</td>\n",
       "      <td>False</td>\n",
       "      <td>False</td>\n",
       "      <td>False</td>\n",
       "      <td>False</td>\n",
       "      <td>False</td>\n",
       "      <td>True</td>\n",
       "      <td>False</td>\n",
       "      <td>True</td>\n",
       "      <td>True</td>\n",
       "      <td>False</td>\n",
       "      <td>False</td>\n",
       "      <td>False</td>\n",
       "      <td>False</td>\n",
       "      <td>False</td>\n",
       "      <td>False</td>\n",
       "      <td>False</td>\n",
       "      <td>False</td>\n",
       "      <td>False</td>\n",
       "      <td>False</td>\n",
       "      <td>False</td>\n",
       "      <td>True</td>\n",
       "      <td>False</td>\n",
       "      <td>False</td>\n",
       "      <td>False</td>\n",
       "      <td>False</td>\n",
       "      <td>True</td>\n",
       "      <td>False</td>\n",
       "      <td>True</td>\n",
       "      <td>False</td>\n",
       "      <td>False</td>\n",
       "      <td>False</td>\n",
       "      <td>False</td>\n",
       "      <td>False</td>\n",
       "      <td>False</td>\n",
       "      <td>False</td>\n",
       "      <td>False</td>\n",
       "      <td>False</td>\n",
       "      <td>False</td>\n",
       "    </tr>\n",
       "    <tr>\n",
       "      <th>2</th>\n",
       "      <td>False</td>\n",
       "      <td>False</td>\n",
       "      <td>False</td>\n",
       "      <td>False</td>\n",
       "      <td>False</td>\n",
       "      <td>False</td>\n",
       "      <td>False</td>\n",
       "      <td>False</td>\n",
       "      <td>False</td>\n",
       "      <td>True</td>\n",
       "      <td>False</td>\n",
       "      <td>True</td>\n",
       "      <td>True</td>\n",
       "      <td>False</td>\n",
       "      <td>False</td>\n",
       "      <td>False</td>\n",
       "      <td>False</td>\n",
       "      <td>False</td>\n",
       "      <td>False</td>\n",
       "      <td>False</td>\n",
       "      <td>False</td>\n",
       "      <td>False</td>\n",
       "      <td>False</td>\n",
       "      <td>False</td>\n",
       "      <td>True</td>\n",
       "      <td>False</td>\n",
       "      <td>False</td>\n",
       "      <td>False</td>\n",
       "      <td>False</td>\n",
       "      <td>True</td>\n",
       "      <td>False</td>\n",
       "      <td>True</td>\n",
       "      <td>False</td>\n",
       "      <td>False</td>\n",
       "      <td>False</td>\n",
       "      <td>False</td>\n",
       "      <td>False</td>\n",
       "      <td>False</td>\n",
       "      <td>False</td>\n",
       "      <td>False</td>\n",
       "      <td>False</td>\n",
       "      <td>False</td>\n",
       "    </tr>\n",
       "    <tr>\n",
       "      <th>3</th>\n",
       "      <td>False</td>\n",
       "      <td>False</td>\n",
       "      <td>False</td>\n",
       "      <td>False</td>\n",
       "      <td>False</td>\n",
       "      <td>False</td>\n",
       "      <td>False</td>\n",
       "      <td>False</td>\n",
       "      <td>False</td>\n",
       "      <td>True</td>\n",
       "      <td>False</td>\n",
       "      <td>False</td>\n",
       "      <td>True</td>\n",
       "      <td>False</td>\n",
       "      <td>False</td>\n",
       "      <td>False</td>\n",
       "      <td>False</td>\n",
       "      <td>False</td>\n",
       "      <td>False</td>\n",
       "      <td>False</td>\n",
       "      <td>False</td>\n",
       "      <td>False</td>\n",
       "      <td>False</td>\n",
       "      <td>False</td>\n",
       "      <td>True</td>\n",
       "      <td>False</td>\n",
       "      <td>False</td>\n",
       "      <td>False</td>\n",
       "      <td>False</td>\n",
       "      <td>True</td>\n",
       "      <td>True</td>\n",
       "      <td>True</td>\n",
       "      <td>False</td>\n",
       "      <td>False</td>\n",
       "      <td>False</td>\n",
       "      <td>False</td>\n",
       "      <td>False</td>\n",
       "      <td>False</td>\n",
       "      <td>False</td>\n",
       "      <td>False</td>\n",
       "      <td>False</td>\n",
       "      <td>False</td>\n",
       "    </tr>\n",
       "    <tr>\n",
       "      <th>4</th>\n",
       "      <td>False</td>\n",
       "      <td>False</td>\n",
       "      <td>False</td>\n",
       "      <td>False</td>\n",
       "      <td>False</td>\n",
       "      <td>False</td>\n",
       "      <td>False</td>\n",
       "      <td>False</td>\n",
       "      <td>False</td>\n",
       "      <td>False</td>\n",
       "      <td>False</td>\n",
       "      <td>True</td>\n",
       "      <td>True</td>\n",
       "      <td>False</td>\n",
       "      <td>False</td>\n",
       "      <td>False</td>\n",
       "      <td>False</td>\n",
       "      <td>False</td>\n",
       "      <td>False</td>\n",
       "      <td>False</td>\n",
       "      <td>False</td>\n",
       "      <td>False</td>\n",
       "      <td>False</td>\n",
       "      <td>False</td>\n",
       "      <td>True</td>\n",
       "      <td>False</td>\n",
       "      <td>False</td>\n",
       "      <td>False</td>\n",
       "      <td>False</td>\n",
       "      <td>True</td>\n",
       "      <td>False</td>\n",
       "      <td>True</td>\n",
       "      <td>False</td>\n",
       "      <td>False</td>\n",
       "      <td>False</td>\n",
       "      <td>False</td>\n",
       "      <td>False</td>\n",
       "      <td>False</td>\n",
       "      <td>False</td>\n",
       "      <td>False</td>\n",
       "      <td>False</td>\n",
       "      <td>False</td>\n",
       "    </tr>\n",
       "    <tr>\n",
       "      <th>...</th>\n",
       "      <td>...</td>\n",
       "      <td>...</td>\n",
       "      <td>...</td>\n",
       "      <td>...</td>\n",
       "      <td>...</td>\n",
       "      <td>...</td>\n",
       "      <td>...</td>\n",
       "      <td>...</td>\n",
       "      <td>...</td>\n",
       "      <td>...</td>\n",
       "      <td>...</td>\n",
       "      <td>...</td>\n",
       "      <td>...</td>\n",
       "      <td>...</td>\n",
       "      <td>...</td>\n",
       "      <td>...</td>\n",
       "      <td>...</td>\n",
       "      <td>...</td>\n",
       "      <td>...</td>\n",
       "      <td>...</td>\n",
       "      <td>...</td>\n",
       "      <td>...</td>\n",
       "      <td>...</td>\n",
       "      <td>...</td>\n",
       "      <td>...</td>\n",
       "      <td>...</td>\n",
       "      <td>...</td>\n",
       "      <td>...</td>\n",
       "      <td>...</td>\n",
       "      <td>...</td>\n",
       "      <td>...</td>\n",
       "      <td>...</td>\n",
       "      <td>...</td>\n",
       "      <td>...</td>\n",
       "      <td>...</td>\n",
       "      <td>...</td>\n",
       "      <td>...</td>\n",
       "      <td>...</td>\n",
       "      <td>...</td>\n",
       "      <td>...</td>\n",
       "      <td>...</td>\n",
       "      <td>...</td>\n",
       "    </tr>\n",
       "    <tr>\n",
       "      <th>194668</th>\n",
       "      <td>False</td>\n",
       "      <td>False</td>\n",
       "      <td>False</td>\n",
       "      <td>False</td>\n",
       "      <td>False</td>\n",
       "      <td>False</td>\n",
       "      <td>False</td>\n",
       "      <td>False</td>\n",
       "      <td>False</td>\n",
       "      <td>True</td>\n",
       "      <td>False</td>\n",
       "      <td>False</td>\n",
       "      <td>True</td>\n",
       "      <td>False</td>\n",
       "      <td>False</td>\n",
       "      <td>False</td>\n",
       "      <td>False</td>\n",
       "      <td>False</td>\n",
       "      <td>False</td>\n",
       "      <td>False</td>\n",
       "      <td>False</td>\n",
       "      <td>False</td>\n",
       "      <td>False</td>\n",
       "      <td>False</td>\n",
       "      <td>True</td>\n",
       "      <td>False</td>\n",
       "      <td>False</td>\n",
       "      <td>False</td>\n",
       "      <td>False</td>\n",
       "      <td>True</td>\n",
       "      <td>True</td>\n",
       "      <td>True</td>\n",
       "      <td>False</td>\n",
       "      <td>False</td>\n",
       "      <td>False</td>\n",
       "      <td>False</td>\n",
       "      <td>False</td>\n",
       "      <td>False</td>\n",
       "      <td>False</td>\n",
       "      <td>False</td>\n",
       "      <td>False</td>\n",
       "      <td>False</td>\n",
       "    </tr>\n",
       "    <tr>\n",
       "      <th>194669</th>\n",
       "      <td>False</td>\n",
       "      <td>False</td>\n",
       "      <td>False</td>\n",
       "      <td>False</td>\n",
       "      <td>False</td>\n",
       "      <td>False</td>\n",
       "      <td>False</td>\n",
       "      <td>False</td>\n",
       "      <td>False</td>\n",
       "      <td>True</td>\n",
       "      <td>False</td>\n",
       "      <td>False</td>\n",
       "      <td>True</td>\n",
       "      <td>False</td>\n",
       "      <td>False</td>\n",
       "      <td>False</td>\n",
       "      <td>False</td>\n",
       "      <td>False</td>\n",
       "      <td>False</td>\n",
       "      <td>False</td>\n",
       "      <td>False</td>\n",
       "      <td>False</td>\n",
       "      <td>False</td>\n",
       "      <td>False</td>\n",
       "      <td>False</td>\n",
       "      <td>False</td>\n",
       "      <td>False</td>\n",
       "      <td>False</td>\n",
       "      <td>False</td>\n",
       "      <td>True</td>\n",
       "      <td>True</td>\n",
       "      <td>True</td>\n",
       "      <td>False</td>\n",
       "      <td>False</td>\n",
       "      <td>False</td>\n",
       "      <td>False</td>\n",
       "      <td>False</td>\n",
       "      <td>False</td>\n",
       "      <td>False</td>\n",
       "      <td>False</td>\n",
       "      <td>False</td>\n",
       "      <td>False</td>\n",
       "    </tr>\n",
       "    <tr>\n",
       "      <th>194670</th>\n",
       "      <td>False</td>\n",
       "      <td>False</td>\n",
       "      <td>False</td>\n",
       "      <td>False</td>\n",
       "      <td>False</td>\n",
       "      <td>False</td>\n",
       "      <td>False</td>\n",
       "      <td>False</td>\n",
       "      <td>False</td>\n",
       "      <td>False</td>\n",
       "      <td>False</td>\n",
       "      <td>False</td>\n",
       "      <td>True</td>\n",
       "      <td>False</td>\n",
       "      <td>False</td>\n",
       "      <td>False</td>\n",
       "      <td>False</td>\n",
       "      <td>False</td>\n",
       "      <td>False</td>\n",
       "      <td>False</td>\n",
       "      <td>False</td>\n",
       "      <td>False</td>\n",
       "      <td>False</td>\n",
       "      <td>False</td>\n",
       "      <td>True</td>\n",
       "      <td>False</td>\n",
       "      <td>False</td>\n",
       "      <td>False</td>\n",
       "      <td>False</td>\n",
       "      <td>True</td>\n",
       "      <td>True</td>\n",
       "      <td>True</td>\n",
       "      <td>False</td>\n",
       "      <td>False</td>\n",
       "      <td>False</td>\n",
       "      <td>False</td>\n",
       "      <td>False</td>\n",
       "      <td>False</td>\n",
       "      <td>False</td>\n",
       "      <td>False</td>\n",
       "      <td>False</td>\n",
       "      <td>False</td>\n",
       "    </tr>\n",
       "    <tr>\n",
       "      <th>194671</th>\n",
       "      <td>False</td>\n",
       "      <td>False</td>\n",
       "      <td>False</td>\n",
       "      <td>False</td>\n",
       "      <td>False</td>\n",
       "      <td>False</td>\n",
       "      <td>False</td>\n",
       "      <td>False</td>\n",
       "      <td>False</td>\n",
       "      <td>False</td>\n",
       "      <td>False</td>\n",
       "      <td>False</td>\n",
       "      <td>True</td>\n",
       "      <td>False</td>\n",
       "      <td>False</td>\n",
       "      <td>False</td>\n",
       "      <td>False</td>\n",
       "      <td>False</td>\n",
       "      <td>False</td>\n",
       "      <td>False</td>\n",
       "      <td>False</td>\n",
       "      <td>False</td>\n",
       "      <td>False</td>\n",
       "      <td>False</td>\n",
       "      <td>True</td>\n",
       "      <td>False</td>\n",
       "      <td>False</td>\n",
       "      <td>False</td>\n",
       "      <td>False</td>\n",
       "      <td>True</td>\n",
       "      <td>True</td>\n",
       "      <td>True</td>\n",
       "      <td>False</td>\n",
       "      <td>False</td>\n",
       "      <td>False</td>\n",
       "      <td>False</td>\n",
       "      <td>False</td>\n",
       "      <td>False</td>\n",
       "      <td>False</td>\n",
       "      <td>False</td>\n",
       "      <td>False</td>\n",
       "      <td>False</td>\n",
       "    </tr>\n",
       "    <tr>\n",
       "      <th>194672</th>\n",
       "      <td>False</td>\n",
       "      <td>False</td>\n",
       "      <td>False</td>\n",
       "      <td>False</td>\n",
       "      <td>False</td>\n",
       "      <td>False</td>\n",
       "      <td>False</td>\n",
       "      <td>False</td>\n",
       "      <td>False</td>\n",
       "      <td>True</td>\n",
       "      <td>False</td>\n",
       "      <td>False</td>\n",
       "      <td>True</td>\n",
       "      <td>False</td>\n",
       "      <td>False</td>\n",
       "      <td>False</td>\n",
       "      <td>False</td>\n",
       "      <td>False</td>\n",
       "      <td>False</td>\n",
       "      <td>False</td>\n",
       "      <td>False</td>\n",
       "      <td>False</td>\n",
       "      <td>False</td>\n",
       "      <td>False</td>\n",
       "      <td>True</td>\n",
       "      <td>False</td>\n",
       "      <td>False</td>\n",
       "      <td>False</td>\n",
       "      <td>False</td>\n",
       "      <td>True</td>\n",
       "      <td>True</td>\n",
       "      <td>True</td>\n",
       "      <td>False</td>\n",
       "      <td>False</td>\n",
       "      <td>False</td>\n",
       "      <td>False</td>\n",
       "      <td>False</td>\n",
       "      <td>False</td>\n",
       "      <td>False</td>\n",
       "      <td>False</td>\n",
       "      <td>False</td>\n",
       "      <td>False</td>\n",
       "    </tr>\n",
       "  </tbody>\n",
       "</table>\n",
       "<p>194673 rows × 42 columns</p>\n",
       "</div>"
      ],
      "text/plain": [
       "        SEVERITYCODE  longitude  latitude  OBJECTID  INCKEY  COLDETKEY  \\\n",
       "0              False      False     False     False   False      False   \n",
       "1              False      False     False     False   False      False   \n",
       "2              False      False     False     False   False      False   \n",
       "3              False      False     False     False   False      False   \n",
       "4              False      False     False     False   False      False   \n",
       "...              ...        ...       ...       ...     ...        ...   \n",
       "194668         False      False     False     False   False      False   \n",
       "194669         False      False     False     False   False      False   \n",
       "194670         False      False     False     False   False      False   \n",
       "194671         False      False     False     False   False      False   \n",
       "194672         False      False     False     False   False      False   \n",
       "\n",
       "        REPORTNO  STATUS  ADDRTYPE  INTKEY  LOCATION  EXCEPTRSNCODE  \\\n",
       "0          False   False     False   False     False          False   \n",
       "1          False   False     False    True     False           True   \n",
       "2          False   False     False    True     False           True   \n",
       "3          False   False     False    True     False          False   \n",
       "4          False   False     False   False     False           True   \n",
       "...          ...     ...       ...     ...       ...            ...   \n",
       "194668     False   False     False    True     False          False   \n",
       "194669     False   False     False    True     False          False   \n",
       "194670     False   False     False   False     False          False   \n",
       "194671     False   False     False   False     False          False   \n",
       "194672     False   False     False    True     False          False   \n",
       "\n",
       "        EXCEPTRSNDESC  SEVERITYDESC  COLLISIONTYPE  PERSONCOUNT  PEDCOUNT  \\\n",
       "0                True         False          False        False     False   \n",
       "1                True         False          False        False     False   \n",
       "2                True         False          False        False     False   \n",
       "3                True         False          False        False     False   \n",
       "4                True         False          False        False     False   \n",
       "...               ...           ...            ...          ...       ...   \n",
       "194668           True         False          False        False     False   \n",
       "194669           True         False          False        False     False   \n",
       "194670           True         False          False        False     False   \n",
       "194671           True         False          False        False     False   \n",
       "194672           True         False          False        False     False   \n",
       "\n",
       "        PEDCYLCOUNT  VEHCOUNT  INCDATE  INCDTTM  JUNCTIONTYPE  SDOT_COLCODE  \\\n",
       "0             False     False    False    False         False         False   \n",
       "1             False     False    False    False         False         False   \n",
       "2             False     False    False    False         False         False   \n",
       "3             False     False    False    False         False         False   \n",
       "4             False     False    False    False         False         False   \n",
       "...             ...       ...      ...      ...           ...           ...   \n",
       "194668        False     False    False    False         False         False   \n",
       "194669        False     False    False    False         False         False   \n",
       "194670        False     False    False    False         False         False   \n",
       "194671        False     False    False    False         False         False   \n",
       "194672        False     False    False    False         False         False   \n",
       "\n",
       "        SDOT_COLDESC  INATTENTIONIND  UNDERINFL  WEATHER  ROADCOND  LIGHTCOND  \\\n",
       "0              False            True      False    False     False      False   \n",
       "1              False            True      False    False     False      False   \n",
       "2              False            True      False    False     False      False   \n",
       "3              False            True      False    False     False      False   \n",
       "4              False            True      False    False     False      False   \n",
       "...              ...             ...        ...      ...       ...        ...   \n",
       "194668         False            True      False    False     False      False   \n",
       "194669         False           False      False    False     False      False   \n",
       "194670         False            True      False    False     False      False   \n",
       "194671         False            True      False    False     False      False   \n",
       "194672         False            True      False    False     False      False   \n",
       "\n",
       "        PEDROWNOTGRNT  SDOTCOLNUM  SPEEDING  ST_COLCODE  ST_COLDESC  \\\n",
       "0                True        True      True       False       False   \n",
       "1                True       False      True       False       False   \n",
       "2                True       False      True       False       False   \n",
       "3                True        True      True       False       False   \n",
       "4                True       False      True       False       False   \n",
       "...               ...         ...       ...         ...         ...   \n",
       "194668           True        True      True       False       False   \n",
       "194669           True        True      True       False       False   \n",
       "194670           True        True      True       False       False   \n",
       "194671           True        True      True       False       False   \n",
       "194672           True        True      True       False       False   \n",
       "\n",
       "        SEGLANEKEY  CROSSWALKKEY  HITPARKEDCAR   Year  Month    Day   Hour  \\\n",
       "0            False         False         False  False  False  False  False   \n",
       "1            False         False         False  False  False  False  False   \n",
       "2            False         False         False  False  False  False  False   \n",
       "3            False         False         False  False  False  False  False   \n",
       "4            False         False         False  False  False  False  False   \n",
       "...            ...           ...           ...    ...    ...    ...    ...   \n",
       "194668       False         False         False  False  False  False  False   \n",
       "194669       False         False         False  False  False  False  False   \n",
       "194670       False         False         False  False  False  False  False   \n",
       "194671       False         False         False  False  False  False  False   \n",
       "194672       False         False         False  False  False  False  False   \n",
       "\n",
       "        Weekday  \n",
       "0         False  \n",
       "1         False  \n",
       "2         False  \n",
       "3         False  \n",
       "4         False  \n",
       "...         ...  \n",
       "194668    False  \n",
       "194669    False  \n",
       "194670    False  \n",
       "194671    False  \n",
       "194672    False  \n",
       "\n",
       "[194673 rows x 42 columns]"
      ]
     },
     "execution_count": 38,
     "metadata": {},
     "output_type": "execute_result"
    }
   ],
   "source": [
    "df.isnull()"
   ]
  },
  {
   "cell_type": "code",
   "execution_count": 39,
   "metadata": {
    "pycharm": {
     "name": "#%%\n"
    }
   },
   "outputs": [
    {
     "data": {
      "text/plain": [
       "SEVERITYCODE           0\n",
       "longitude           5334\n",
       "latitude            5334\n",
       "OBJECTID               0\n",
       "INCKEY                 0\n",
       "COLDETKEY              0\n",
       "REPORTNO               0\n",
       "STATUS                 0\n",
       "ADDRTYPE            1926\n",
       "INTKEY            129603\n",
       "LOCATION            2677\n",
       "EXCEPTRSNCODE     109862\n",
       "EXCEPTRSNDESC     189035\n",
       "SEVERITYDESC           0\n",
       "COLLISIONTYPE       4904\n",
       "PERSONCOUNT            0\n",
       "PEDCOUNT               0\n",
       "PEDCYLCOUNT            0\n",
       "VEHCOUNT               0\n",
       "INCDATE                0\n",
       "INCDTTM                0\n",
       "JUNCTIONTYPE        6329\n",
       "SDOT_COLCODE           0\n",
       "SDOT_COLDESC           0\n",
       "INATTENTIONIND    164868\n",
       "UNDERINFL           4884\n",
       "WEATHER             5081\n",
       "ROADCOND            5012\n",
       "LIGHTCOND           5170\n",
       "PEDROWNOTGRNT     190006\n",
       "SDOTCOLNUM         79737\n",
       "SPEEDING          185340\n",
       "ST_COLCODE            18\n",
       "ST_COLDESC          4904\n",
       "SEGLANEKEY             0\n",
       "CROSSWALKKEY           0\n",
       "HITPARKEDCAR           0\n",
       "Year                   0\n",
       "Month                  0\n",
       "Day                    0\n",
       "Hour                   0\n",
       "Weekday                0\n",
       "dtype: int64"
      ]
     },
     "execution_count": 39,
     "metadata": {},
     "output_type": "execute_result"
    }
   ],
   "source": [
    "df.isnull().sum()"
   ]
  },
  {
   "cell_type": "markdown",
   "metadata": {
    "pycharm": {
     "name": "#%% md\n"
    },
    "slideshow": {
     "slide_type": "slide"
    }
   },
   "source": [
    "#### Selecting and finalizing the features for Machine Learning Model"
   ]
  },
  {
   "cell_type": "code",
   "execution_count": 40,
   "metadata": {
    "pycharm": {
     "name": "#%%\n"
    },
    "scrolled": true
   },
   "outputs": [
    {
     "name": "stdout",
     "output_type": "stream",
     "text": [
      "<class 'pandas.core.frame.DataFrame'>\n",
      "RangeIndex: 194673 entries, 0 to 194672\n",
      "Data columns (total 15 columns):\n",
      " #   Column         Non-Null Count   Dtype  \n",
      "---  ------         --------------   -----  \n",
      " 0   SEVERITYCODE   194673 non-null  int64  \n",
      " 1   longitude      189339 non-null  float64\n",
      " 2   latitude       189339 non-null  float64\n",
      " 3   PERSONCOUNT    194673 non-null  int64  \n",
      " 4   PEDCOUNT       194673 non-null  int64  \n",
      " 5   PEDCYLCOUNT    194673 non-null  int64  \n",
      " 6   VEHCOUNT       194673 non-null  int64  \n",
      " 7   ADDRTYPE       192747 non-null  object \n",
      " 8   COLLISIONTYPE  189769 non-null  object \n",
      " 9   WEATHER        189592 non-null  object \n",
      " 10  ROADCOND       189661 non-null  object \n",
      " 11  LIGHTCOND      189503 non-null  object \n",
      " 12  SDOT_COLDESC   194673 non-null  object \n",
      " 13  HITPARKEDCAR   194673 non-null  object \n",
      " 14  Hour           194673 non-null  int64  \n",
      "dtypes: float64(2), int64(6), object(7)\n",
      "memory usage: 22.3+ MB\n"
     ]
    }
   ],
   "source": [
    "selected_features = [\"SEVERITYCODE\", \"longitude\", \"latitude\", \"PERSONCOUNT\",\n",
    "                     \"PEDCOUNT\", \"PEDCYLCOUNT\", \"VEHCOUNT\", \"ADDRTYPE\", \"COLLISIONTYPE\", \"WEATHER\", \"ROADCOND\",\n",
    "                     \"LIGHTCOND\", \"SDOT_COLDESC\", \"HITPARKEDCAR\", \"Hour\"]\n",
    "df_sel=df[selected_features].copy()\n",
    "df_sel.info()"
   ]
  },
  {
   "cell_type": "markdown",
   "metadata": {
    "pycharm": {
     "name": "#%% md\n"
    },
    "slideshow": {
     "slide_type": "slide"
    }
   },
   "source": [
    "#### Checking the Null values in the selected dataframe and dropping the rows with the null values"
   ]
  },
  {
   "cell_type": "code",
   "execution_count": 41,
   "metadata": {
    "pycharm": {
     "name": "#%%\n"
    }
   },
   "outputs": [
    {
     "data": {
      "text/plain": [
       "SEVERITYCODE     0.000000\n",
       "longitude        0.027400\n",
       "latitude         0.027400\n",
       "PERSONCOUNT      0.000000\n",
       "PEDCOUNT         0.000000\n",
       "PEDCYLCOUNT      0.000000\n",
       "VEHCOUNT         0.000000\n",
       "ADDRTYPE         0.009894\n",
       "COLLISIONTYPE    0.025191\n",
       "WEATHER          0.026100\n",
       "ROADCOND         0.025746\n",
       "LIGHTCOND        0.026557\n",
       "SDOT_COLDESC     0.000000\n",
       "HITPARKEDCAR     0.000000\n",
       "Hour             0.000000\n",
       "dtype: float64"
      ]
     },
     "execution_count": 41,
     "metadata": {},
     "output_type": "execute_result"
    }
   ],
   "source": [
    "df_sel.isnull().mean()"
   ]
  },
  {
   "cell_type": "code",
   "execution_count": 42,
   "metadata": {},
   "outputs": [
    {
     "data": {
      "text/plain": [
       "(194673, 15)"
      ]
     },
     "execution_count": 42,
     "metadata": {},
     "output_type": "execute_result"
    }
   ],
   "source": [
    "df_sel.shape"
   ]
  },
  {
   "cell_type": "code",
   "execution_count": 43,
   "metadata": {},
   "outputs": [
    {
     "data": {
      "text/plain": [
       "(184146, 15)"
      ]
     },
     "execution_count": 43,
     "metadata": {},
     "output_type": "execute_result"
    }
   ],
   "source": [
    "df_sel.dropna(subset=df_sel.columns[df_sel.isnull().mean()!=0], how='any', axis=0, inplace=True)\n",
    "df_sel.shape"
   ]
  },
  {
   "cell_type": "code",
   "execution_count": 44,
   "metadata": {},
   "outputs": [],
   "source": [
    "# Export the data with selected features\n",
    "\n",
    "df_sel.to_csv('./Data-Collisions_clean_sel.csv',index=False)"
   ]
  },
  {
   "cell_type": "markdown",
   "metadata": {
    "pycharm": {
     "name": "#%% md\n"
    },
    "slideshow": {
     "slide_type": "slide"
    }
   },
   "source": [
    "#### Generating the dummies for the Categorical Data"
   ]
  },
  {
   "cell_type": "code",
   "execution_count": 45,
   "metadata": {
    "pycharm": {
     "name": "#%%\n"
    },
    "scrolled": true
   },
   "outputs": [
    {
     "name": "stdout",
     "output_type": "stream",
     "text": [
      "<class 'pandas.core.frame.DataFrame'>\n",
      "Int64Index: 184146 entries, 0 to 194672\n",
      "Data columns (total 83 columns):\n",
      " #   Column                                                                     Non-Null Count   Dtype  \n",
      "---  ------                                                                     --------------   -----  \n",
      " 0   SEVERITYCODE                                                               184146 non-null  int64  \n",
      " 1   longitude                                                                  184146 non-null  float64\n",
      " 2   latitude                                                                   184146 non-null  float64\n",
      " 3   PERSONCOUNT                                                                184146 non-null  int64  \n",
      " 4   PEDCOUNT                                                                   184146 non-null  int64  \n",
      " 5   PEDCYLCOUNT                                                                184146 non-null  int64  \n",
      " 6   VEHCOUNT                                                                   184146 non-null  int64  \n",
      " 7   Hour                                                                       184146 non-null  int64  \n",
      " 8   ADDRTYPE_Intersection                                                      184146 non-null  uint8  \n",
      " 9   COLLISIONTYPE_Cycles                                                       184146 non-null  uint8  \n",
      " 10  COLLISIONTYPE_Head On                                                      184146 non-null  uint8  \n",
      " 11  COLLISIONTYPE_Left Turn                                                    184146 non-null  uint8  \n",
      " 12  COLLISIONTYPE_Other                                                        184146 non-null  uint8  \n",
      " 13  COLLISIONTYPE_Parked Car                                                   184146 non-null  uint8  \n",
      " 14  COLLISIONTYPE_Pedestrian                                                   184146 non-null  uint8  \n",
      " 15  COLLISIONTYPE_Rear Ended                                                   184146 non-null  uint8  \n",
      " 16  COLLISIONTYPE_Right Turn                                                   184146 non-null  uint8  \n",
      " 17  COLLISIONTYPE_Sideswipe                                                    184146 non-null  uint8  \n",
      " 18  WEATHER_Clear                                                              184146 non-null  uint8  \n",
      " 19  WEATHER_Fog/Smog/Smoke                                                     184146 non-null  uint8  \n",
      " 20  WEATHER_Other                                                              184146 non-null  uint8  \n",
      " 21  WEATHER_Overcast                                                           184146 non-null  uint8  \n",
      " 22  WEATHER_Partly Cloudy                                                      184146 non-null  uint8  \n",
      " 23  WEATHER_Raining                                                            184146 non-null  uint8  \n",
      " 24  WEATHER_Severe Crosswind                                                   184146 non-null  uint8  \n",
      " 25  WEATHER_Sleet/Hail/Freezing Rain                                           184146 non-null  uint8  \n",
      " 26  WEATHER_Snowing                                                            184146 non-null  uint8  \n",
      " 27  WEATHER_Unknown                                                            184146 non-null  uint8  \n",
      " 28  ROADCOND_Ice                                                               184146 non-null  uint8  \n",
      " 29  ROADCOND_Oil                                                               184146 non-null  uint8  \n",
      " 30  ROADCOND_Other                                                             184146 non-null  uint8  \n",
      " 31  ROADCOND_Sand/Mud/Dirt                                                     184146 non-null  uint8  \n",
      " 32  ROADCOND_Snow/Slush                                                        184146 non-null  uint8  \n",
      " 33  ROADCOND_Standing Water                                                    184146 non-null  uint8  \n",
      " 34  ROADCOND_Unknown                                                           184146 non-null  uint8  \n",
      " 35  ROADCOND_Wet                                                               184146 non-null  uint8  \n",
      " 36  LIGHTCOND_Dark - Street Lights Off                                         184146 non-null  uint8  \n",
      " 37  LIGHTCOND_Dark - Street Lights On                                          184146 non-null  uint8  \n",
      " 38  LIGHTCOND_Dark - Unknown Lighting                                          184146 non-null  uint8  \n",
      " 39  LIGHTCOND_Dawn                                                             184146 non-null  uint8  \n",
      " 40  LIGHTCOND_Daylight                                                         184146 non-null  uint8  \n",
      " 41  LIGHTCOND_Dusk                                                             184146 non-null  uint8  \n",
      " 42  LIGHTCOND_Other                                                            184146 non-null  uint8  \n",
      " 43  LIGHTCOND_Unknown                                                          184146 non-null  uint8  \n",
      " 44  SDOT_COLDESC_DRIVERLESS VEHICLE RAN OFF ROAD - NO COLLISION                184146 non-null  uint8  \n",
      " 45  SDOT_COLDESC_DRIVERLESS VEHICLE STRUCK MOTOR VEHICLE FRONT END AT ANGLE    184146 non-null  uint8  \n",
      " 46  SDOT_COLDESC_DRIVERLESS VEHICLE STRUCK MOTOR VEHICLE LEFT SIDE AT ANGLE    184146 non-null  uint8  \n",
      " 47  SDOT_COLDESC_DRIVERLESS VEHICLE STRUCK MOTOR VEHICLE LEFT SIDE SIDESWIPE   184146 non-null  uint8  \n",
      " 48  SDOT_COLDESC_DRIVERLESS VEHICLE STRUCK MOTOR VEHICLE REAR END              184146 non-null  uint8  \n",
      " 49  SDOT_COLDESC_DRIVERLESS VEHICLE STRUCK MOTOR VEHICLE RIGHT SIDE AT ANGLE   184146 non-null  uint8  \n",
      " 50  SDOT_COLDESC_DRIVERLESS VEHICLE STRUCK MOTOR VEHICLE RIGHT SIDE SIDESWIPE  184146 non-null  uint8  \n",
      " 51  SDOT_COLDESC_DRIVERLESS VEHICLE STRUCK OBJECT IN ROADWAY                   184146 non-null  uint8  \n",
      " 52  SDOT_COLDESC_DRIVERLESS VEHICLE STRUCK PEDESTRIAN                          184146 non-null  uint8  \n",
      " 53  SDOT_COLDESC_MOTOR VEHCILE STRUCK PEDESTRIAN                               184146 non-null  uint8  \n",
      " 54  SDOT_COLDESC_MOTOR VEHICLE OVERTURNED IN ROAD                              184146 non-null  uint8  \n",
      " 55  SDOT_COLDESC_MOTOR VEHICLE RAN OFF ROAD - HIT FIXED OBJECT                 184146 non-null  uint8  \n",
      " 56  SDOT_COLDESC_MOTOR VEHICLE RAN OFF ROAD - NO COLLISION                     184146 non-null  uint8  \n",
      " 57  SDOT_COLDESC_MOTOR VEHICLE STRUCK MOTOR VEHICLE, FRONT END AT ANGLE        184146 non-null  uint8  \n",
      " 58  SDOT_COLDESC_MOTOR VEHICLE STRUCK MOTOR VEHICLE, LEFT SIDE AT ANGLE        184146 non-null  uint8  \n",
      " 59  SDOT_COLDESC_MOTOR VEHICLE STRUCK MOTOR VEHICLE, LEFT SIDE SIDESWIPE       184146 non-null  uint8  \n",
      " 60  SDOT_COLDESC_MOTOR VEHICLE STRUCK MOTOR VEHICLE, REAR END                  184146 non-null  uint8  \n",
      " 61  SDOT_COLDESC_MOTOR VEHICLE STRUCK MOTOR VEHICLE, RIGHT SIDE AT ANGLE       184146 non-null  uint8  \n",
      " 62  SDOT_COLDESC_MOTOR VEHICLE STRUCK MOTOR VEHICLE, RIGHT SIDE SIDESWIPE      184146 non-null  uint8  \n",
      " 63  SDOT_COLDESC_MOTOR VEHICLE STRUCK OBJECT IN ROAD                           184146 non-null  uint8  \n",
      " 64  SDOT_COLDESC_MOTOR VEHICLE STRUCK PEDALCYCLIST, FRONT END AT ANGLE         184146 non-null  uint8  \n",
      " 65  SDOT_COLDESC_MOTOR VEHICLE STRUCK PEDALCYCLIST, LEFT SIDE SIDESWIPE        184146 non-null  uint8  \n",
      " 66  SDOT_COLDESC_MOTOR VEHICLE STRUCK PEDALCYCLIST, REAR END                   184146 non-null  uint8  \n",
      " 67  SDOT_COLDESC_MOTOR VEHICLE STRUCK PEDALCYCLIST, RIGHT SIDE SIDESWIPE       184146 non-null  uint8  \n",
      " 68  SDOT_COLDESC_MOTOR VEHICLE STRUCK TRAIN                                    184146 non-null  uint8  \n",
      " 69  SDOT_COLDESC_NOT ENOUGH INFORMATION / NOT APPLICABLE                       184146 non-null  uint8  \n",
      " 70  SDOT_COLDESC_PEDALCYCLIST OVERTURNED IN ROAD                               184146 non-null  uint8  \n",
      " 71  SDOT_COLDESC_PEDALCYCLIST RAN OFF ROAD - HIT FIXED OBJECT                  184146 non-null  uint8  \n",
      " 72  SDOT_COLDESC_PEDALCYCLIST STRUCK MOTOR VEHICLE FRONT END AT ANGLE          184146 non-null  uint8  \n",
      " 73  SDOT_COLDESC_PEDALCYCLIST STRUCK MOTOR VEHICLE LEFT SIDE AT ANGLE          184146 non-null  uint8  \n",
      " 74  SDOT_COLDESC_PEDALCYCLIST STRUCK MOTOR VEHICLE LEFT SIDE SIDESWIPE         184146 non-null  uint8  \n",
      " 75  SDOT_COLDESC_PEDALCYCLIST STRUCK MOTOR VEHICLE REAR END                    184146 non-null  uint8  \n",
      " 76  SDOT_COLDESC_PEDALCYCLIST STRUCK MOTOR VEHICLE RIGHT SIDE AT ANGLE         184146 non-null  uint8  \n",
      " 77  SDOT_COLDESC_PEDALCYCLIST STRUCK MOTOR VEHICLE RIGHT SIDE SIDESWIPE        184146 non-null  uint8  \n",
      " 78  SDOT_COLDESC_PEDALCYCLIST STRUCK OBJECT IN ROAD                            184146 non-null  uint8  \n",
      " 79  SDOT_COLDESC_PEDALCYCLIST STRUCK PEDALCYCLIST FRONT END AT ANGLE           184146 non-null  uint8  \n",
      " 80  SDOT_COLDESC_PEDALCYCLIST STRUCK PEDALCYCLIST REAR END                     184146 non-null  uint8  \n",
      " 81  SDOT_COLDESC_PEDALCYCLIST STRUCK PEDESTRIAN                                184146 non-null  uint8  \n",
      " 82  HITPARKEDCAR_Y                                                             184146 non-null  uint8  \n",
      "dtypes: float64(2), int64(6), uint8(75)\n",
      "memory usage: 25.8 MB\n"
     ]
    }
   ],
   "source": [
    "# Generate dummies for categorical data\n",
    "df_dummy = pd.get_dummies(df_sel, drop_first=True)\n",
    "# Export data\n",
    "df_dummy.to_csv(\"./Data-Collisions_{}_dummy.csv\", index=False)\n",
    "df_dummy.info()"
   ]
  },
  {
   "cell_type": "markdown",
   "metadata": {
    "pycharm": {
     "name": "#%% md\n"
    },
    "slideshow": {
     "slide_type": "slide"
    }
   },
   "source": [
    "### Modelling"
   ]
  },
  {
   "cell_type": "code",
   "execution_count": 46,
   "metadata": {
    "pycharm": {
     "name": "#%%\n"
    }
   },
   "outputs": [],
   "source": [
    "# Assign the data\n",
    "df=df_dummy\n",
    "# Set the target for the prediction\n",
    "target=\"SEVERITYCODE\"\n",
    "# Create arrays for the features and the response variable\n",
    "# set X and y\n",
    "y = df[target]\n",
    "X = df.drop(target, axis=1)\n",
    "\n",
    "# Split the data set into training and testing data sets\n",
    "# Split the data set into training and testing data sets\n",
    "X_train, X_test, y_train, y_test = train_test_split(X, y, random_state=0, test_size=0.33, stratify=y)"
   ]
  },
  {
   "cell_type": "markdown",
   "metadata": {
    "pycharm": {
     "name": "#%% md\n"
    },
    "slideshow": {
     "slide_type": "slide"
    }
   },
   "source": [
    "#### Selecting the different Algorithms"
   ]
  },
  {
   "cell_type": "code",
   "execution_count": 47,
   "metadata": {
    "pycharm": {
     "name": "#%%\n"
    }
   },
   "outputs": [],
   "source": [
    "algo_lst=['Logistic Regression',' K-Nearest Neighbors','Decision Trees','Random Forest']"
   ]
  },
  {
   "cell_type": "code",
   "execution_count": 48,
   "metadata": {},
   "outputs": [],
   "source": [
    "# Initialize an empty list for the accuracy for each algorithm\n",
    "accuracy_lst=[]"
   ]
  },
  {
   "cell_type": "markdown",
   "metadata": {
    "pycharm": {
     "name": "#%% md\n"
    },
    "slideshow": {
     "slide_type": "slide"
    }
   },
   "source": [
    "### Evalution"
   ]
  },
  {
   "cell_type": "markdown",
   "metadata": {
    "slideshow": {
     "slide_type": "slide"
    }
   },
   "source": [
    "#### Logistic Regression"
   ]
  },
  {
   "cell_type": "code",
   "execution_count": 49,
   "metadata": {
    "pycharm": {
     "name": "#%%\n"
    }
   },
   "outputs": [
    {
     "name": "stdout",
     "output_type": "stream",
     "text": [
      "[Logistic regression algorithm] accuracy_score: 0.756.\n"
     ]
    },
    {
     "name": "stderr",
     "output_type": "stream",
     "text": [
      "c:\\users\\salma\\desktop\\projects\\venv\\new\\new\\lib\\site-packages\\sklearn\\linear_model\\_logistic.py:762: ConvergenceWarning: lbfgs failed to converge (status=1):\n",
      "STOP: TOTAL NO. of ITERATIONS REACHED LIMIT.\n",
      "\n",
      "Increase the number of iterations (max_iter) or scale the data as shown in:\n",
      "    https://scikit-learn.org/stable/modules/preprocessing.html\n",
      "Please also refer to the documentation for alternative solver options:\n",
      "    https://scikit-learn.org/stable/modules/linear_model.html#logistic-regression\n",
      "  n_iter_i = _check_optimize_result(\n"
     ]
    }
   ],
   "source": [
    "# Logistic regression\n",
    "lr = LogisticRegression(solver='lbfgs', max_iter=400, dual=False).fit(X_test, y_test)\n",
    "y_pred=lr.predict(X_test)\n",
    "\n",
    "# Get the accuracy score\n",
    "acc=accuracy_score(y_test, y_pred)\n",
    "\n",
    "# Append to the accuracy list\n",
    "accuracy_lst.append(acc)\n",
    "\n",
    "print(\"[Logistic regression algorithm] accuracy_score: {:.3f}.\".format(acc))"
   ]
  },
  {
   "cell_type": "markdown",
   "metadata": {
    "pycharm": {
     "name": "#%% md\n"
    },
    "slideshow": {
     "slide_type": "slide"
    }
   },
   "source": [
    "#### K-NN Neighbors"
   ]
  },
  {
   "cell_type": "code",
   "execution_count": 50,
   "metadata": {
    "pycharm": {
     "is_executing": true,
     "name": "#%%\n"
    }
   },
   "outputs": [
    {
     "data": {
      "text/plain": [
       "KNeighborsClassifier(n_neighbors=6)"
      ]
     },
     "execution_count": 50,
     "metadata": {},
     "output_type": "execute_result"
    },
    {
     "name": "stdout",
     "output_type": "stream",
     "text": [
      "[K-Nearest Neighbors (KNN)] knn.score: 0.739.\n",
      "[K-Nearest Neighbors (KNN)] accuracy_score: 0.739.\n"
     ]
    }
   ],
   "source": [
    "# Create a k-NN classifier with 6 neighbors\n",
    "knn = KNeighborsClassifier(n_neighbors=6)\n",
    "\n",
    "# Fit the classifier to the data\n",
    "knn.fit(X_train,y_train)\n",
    "\n",
    "# Predict the labels for the training data X\n",
    "y_pred = knn.predict(X_test)\n",
    "\n",
    "# Get the accuracy score\n",
    "acc=accuracy_score(y_test, y_pred)\n",
    "\n",
    "# Append to the accuracy list\n",
    "accuracy_lst.append(acc)\n",
    "print('[K-Nearest Neighbors (KNN)] knn.score: {:.3f}.'.format(knn.score(X_test, y_test)))\n",
    "print('[K-Nearest Neighbors (KNN)] accuracy_score: {:.3f}.'.format(acc))"
   ]
  },
  {
   "cell_type": "markdown",
   "metadata": {
    "pycharm": {
     "name": "#%% md\n"
    },
    "slideshow": {
     "slide_type": "slide"
    }
   },
   "source": [
    "##### Setting arrays for storing the train and test data accuracies"
   ]
  },
  {
   "cell_type": "code",
   "execution_count": 51,
   "metadata": {
    "pycharm": {
     "is_executing": true,
     "name": "#%%\n"
    }
   },
   "outputs": [
    {
     "data": {
      "text/plain": [
       "KNeighborsClassifier(n_neighbors=1)"
      ]
     },
     "execution_count": 51,
     "metadata": {},
     "output_type": "execute_result"
    },
    {
     "data": {
      "text/plain": [
       "KNeighborsClassifier(n_neighbors=2)"
      ]
     },
     "execution_count": 51,
     "metadata": {},
     "output_type": "execute_result"
    },
    {
     "data": {
      "text/plain": [
       "KNeighborsClassifier(n_neighbors=3)"
      ]
     },
     "execution_count": 51,
     "metadata": {},
     "output_type": "execute_result"
    },
    {
     "data": {
      "text/plain": [
       "KNeighborsClassifier(n_neighbors=4)"
      ]
     },
     "execution_count": 51,
     "metadata": {},
     "output_type": "execute_result"
    },
    {
     "data": {
      "text/plain": [
       "KNeighborsClassifier()"
      ]
     },
     "execution_count": 51,
     "metadata": {},
     "output_type": "execute_result"
    },
    {
     "data": {
      "text/plain": [
       "KNeighborsClassifier(n_neighbors=6)"
      ]
     },
     "execution_count": 51,
     "metadata": {},
     "output_type": "execute_result"
    },
    {
     "data": {
      "text/plain": [
       "KNeighborsClassifier(n_neighbors=7)"
      ]
     },
     "execution_count": 51,
     "metadata": {},
     "output_type": "execute_result"
    },
    {
     "data": {
      "text/plain": [
       "KNeighborsClassifier(n_neighbors=8)"
      ]
     },
     "execution_count": 51,
     "metadata": {},
     "output_type": "execute_result"
    }
   ],
   "source": [
    "# Setup arrays to store train and test accuracies\n",
    "neighbors = np.arange(1, 9)\n",
    "train_accuracy = np.empty(len(neighbors))\n",
    "test_accuracy = np.empty(len(neighbors))\n",
    "\n",
    "# Loop over different values of k\n",
    "for i, n_neighbor in enumerate(neighbors):\n",
    "    # Setup a k-NN Classifier with n_neighbor\n",
    "    knn = KNeighborsClassifier(n_neighbors=n_neighbor)\n",
    "\n",
    "    # Fit the classifier to the training data\n",
    "    knn.fit(X_train,y_train)\n",
    "\n",
    "    #Compute accuracy on the training set\n",
    "    train_accuracy[i] = knn.score(X_train, y_train)\n",
    "    #Compute accuracy on the testing set\n",
    "    test_accuracy[i] = knn.score(X_test, y_test)"
   ]
  },
  {
   "cell_type": "markdown",
   "metadata": {
    "pycharm": {
     "name": "#%% md\n"
    },
    "slideshow": {
     "slide_type": "slide"
    }
   },
   "source": [
    "##### Generating a plot for K-NN with varying number of Neighbors"
   ]
  },
  {
   "cell_type": "code",
   "execution_count": null,
   "metadata": {
    "pycharm": {
     "is_executing": true,
     "name": "#%%\n"
    }
   },
   "outputs": [
    {
     "data": {
      "text/plain": [
       "Text(0.5, 1.0, 'k-NN: Varying Number of Neighbors')"
      ]
     },
     "execution_count": 52,
     "metadata": {},
     "output_type": "execute_result"
    },
    {
     "data": {
      "text/plain": [
       "[<matplotlib.lines.Line2D at 0x1c7dc7bb5b0>]"
      ]
     },
     "execution_count": 52,
     "metadata": {},
     "output_type": "execute_result"
    },
    {
     "data": {
      "text/plain": [
       "[<matplotlib.lines.Line2D at 0x1c7dc7bb8e0>]"
      ]
     },
     "execution_count": 52,
     "metadata": {},
     "output_type": "execute_result"
    },
    {
     "data": {
      "text/plain": [
       "<matplotlib.legend.Legend at 0x1c7db823bb0>"
      ]
     },
     "execution_count": 52,
     "metadata": {},
     "output_type": "execute_result"
    },
    {
     "data": {
      "text/plain": [
       "Text(0.5, 0, 'Number of Neighbors')"
      ]
     },
     "execution_count": 52,
     "metadata": {},
     "output_type": "execute_result"
    },
    {
     "data": {
      "text/plain": [
       "Text(0, 0.5, 'Accuracy')"
      ]
     },
     "execution_count": 52,
     "metadata": {},
     "output_type": "execute_result"
    },
    {
     "data": {
      "image/png": "[encoded data removed]",
      "text/plain": [
       "<Figure size 432x288 with 1 Axes>"
      ]
     },
     "metadata": {
      "needs_background": "light"
     },
     "output_type": "display_data"
    }
   ],
   "source": [
    "# Generate plot\n",
    "\n",
    "plt.title('k-NN: Varying Number of Neighbors')\n",
    "plt.plot(neighbors, test_accuracy, label = 'Testing Accuracy')\n",
    "plt.plot(neighbors, train_accuracy, label = 'Training Accuracy')\n",
    "plt.legend()\n",
    "plt.xlabel('Number of Neighbors')\n",
    "plt.ylabel('Accuracy')\n",
    "plt.show()"
   ]
  },
  {
   "cell_type": "markdown",
   "metadata": {
    "pycharm": {
     "name": "#%% md\n"
    },
    "slideshow": {
     "slide_type": "slide"
    }
   },
   "source": [
    "#### Decision Tree Algorithm"
   ]
  },
  {
   "cell_type": "markdown",
   "metadata": {
    "slideshow": {
     "slide_type": "slide"
    }
   },
   "source": [
    "##### Instantiate dt_entropy, set 'entropy' as the information criterion"
   ]
  },
  {
   "cell_type": "code",
   "execution_count": null,
   "metadata": {
    "pycharm": {
     "is_executing": true,
     "name": "#%%\n"
    }
   },
   "outputs": [
    {
     "data": {
      "text/plain": [
       "DecisionTreeClassifier(criterion='entropy', max_depth=8, random_state=1)"
      ]
     },
     "execution_count": 53,
     "metadata": {},
     "output_type": "execute_result"
    },
    {
     "name": "stdout",
     "output_type": "stream",
     "text": [
      "[Decision Tree -- entropy] accuracy_score: 0.754.\n"
     ]
    },
    {
     "data": {
      "text/plain": [
       "DecisionTreeClassifier(max_depth=8, random_state=1)"
      ]
     },
     "execution_count": 53,
     "metadata": {},
     "output_type": "execute_result"
    },
    {
     "name": "stdout",
     "output_type": "stream",
     "text": [
      "[Decision Tree -- gini] accuracy_score: 0.754.\n"
     ]
    }
   ],
   "source": [
    "dt_entropy = DecisionTreeClassifier(max_depth=8, criterion='entropy', random_state=1)\n",
    "\n",
    "# Fit dt_entropy to the training set\n",
    "\n",
    "dt_entropy.fit(X_train, y_train)\n",
    "\n",
    "# Use dt_entropy to predict test set labels\n",
    "y_pred= dt_entropy.predict(X_test)\n",
    "\n",
    "# Evaluate accuracy_entropy\n",
    "accuracy_entropy = accuracy_score(y_test, y_pred)\n",
    "\n",
    "# Print accuracy_entropy\n",
    "print('[Decision Tree -- entropy] accuracy_score: {:.3f}.'.format(accuracy_entropy))\n",
    "\n",
    "# Instantiate dt_gini, set 'gini' as the information criterion\n",
    "dt_gini = DecisionTreeClassifier(max_depth=8, criterion='gini', random_state=1)\n",
    "\n",
    "# Fit dt_entropy to the training set\n",
    "dt_gini.fit(X_train, y_train)\n",
    "\n",
    "# Use dt_entropy to predict test set labels\n",
    "y_pred= dt_gini.predict(X_test)\n",
    "\n",
    "# Evaluate accuracy_entropy\n",
    "accuracy_gini = accuracy_score(y_test, y_pred)\n",
    "\n",
    "# Append to the accuracy list\n",
    "acc=accuracy_gini\n",
    "accuracy_lst.append(acc)\n",
    "\n",
    "# Print accuracy_gini\n",
    "print('[Decision Tree -- gini] accuracy_score: {:.3f}.'.format(accuracy_gini))"
   ]
  },
  {
   "cell_type": "markdown",
   "metadata": {
    "pycharm": {
     "name": "#%% md\n"
    },
    "slideshow": {
     "slide_type": "slide"
    }
   },
   "source": [
    "#### Random Forest Algorithm"
   ]
  },
  {
   "cell_type": "code",
   "execution_count": null,
   "metadata": {
    "pycharm": {
     "is_executing": true,
     "name": "#%%\n"
    }
   },
   "outputs": [
    {
     "data": {
      "text/plain": [
       "RandomForestClassifier()"
      ]
     },
     "execution_count": 54,
     "metadata": {},
     "output_type": "execute_result"
    },
    {
     "name": "stdout",
     "output_type": "stream",
     "text": [
      "[Random forest algorithm] accuracy_score: 0.735.\n"
     ]
    }
   ],
   "source": [
    "# Random Forest algorithm\n",
    "\n",
    "# Create a Gaussian Classifier\n",
    "\n",
    "clf=RandomForestClassifier(n_estimators=100)\n",
    "\n",
    "#Train the model using the training sets y_pred=clf.predict(X_test)\n",
    "\n",
    "clf.fit(X_train,y_train)\n",
    "y_pred=clf.predict(X_test)\n",
    "# Get the accuracy score\n",
    "acc=accuracy_score(y_test, y_pred)\n",
    "\n",
    "# Append to the accuracy list\n",
    "accuracy_lst.append(acc)\n",
    "\n",
    "# Model Accuracy, how often is the classifier correct?\n",
    "\n",
    "print(\"[Random forest algorithm] accuracy_score: {:.3f}.\".format(acc))"
   ]
  },
  {
   "cell_type": "markdown",
   "metadata": {
    "pycharm": {
     "name": "#%% md\n"
    },
    "slideshow": {
     "slide_type": "slide"
    }
   },
   "source": [
    "##### Random Forest Classifier"
   ]
  },
  {
   "cell_type": "code",
   "execution_count": null,
   "metadata": {
    "pycharm": {
     "is_executing": true,
     "name": "#%%\n"
    }
   },
   "outputs": [
    {
     "data": {
      "text/plain": [
       "SelectFromModel(estimator=RandomForestClassifier(), threshold=0.03)"
      ]
     },
     "execution_count": 56,
     "metadata": {},
     "output_type": "execute_result"
    },
    {
     "name": "stdout",
     "output_type": "stream",
     "text": [
      "longitude\n",
      "latitude\n",
      "PERSONCOUNT\n",
      "Hour\n",
      "COLLISIONTYPE_Parked Car\n"
     ]
    }
   ],
   "source": [
    "# Create a selector object that will use the random forest classifier to identify\n",
    "\n",
    "# features that have an importance of more than 0.03\n",
    "sfm = SelectFromModel(clf, threshold=0.03)\n",
    "\n",
    "# Train the selector\n",
    "sfm.fit(X_train, y_train)\n",
    "\n",
    "feat_labels=X.columns\n",
    "\n",
    "# Print the names of the most important features\n",
    "for feature_list_index in sfm.get_support(indices=True):\n",
    "    print(feat_labels[feature_list_index])"
   ]
  },
  {
   "cell_type": "markdown",
   "metadata": {
    "pycharm": {
     "name": "#%% md\n"
    },
    "slideshow": {
     "slide_type": "slide"
    }
   },
   "source": [
    "##### Visualizing the important features"
   ]
  },
  {
   "cell_type": "code",
   "execution_count": null,
   "metadata": {
    "pycharm": {
     "is_executing": true,
     "name": "#%%\n"
    }
   },
   "outputs": [
    {
     "data": {
      "text/plain": [
       "<AxesSubplot:>"
      ]
     },
     "execution_count": 55,
     "metadata": {},
     "output_type": "execute_result"
    },
    {
     "data": {
      "text/plain": [
       "Text(0.5, 0, 'Feature Importance Score')"
      ]
     },
     "execution_count": 55,
     "metadata": {},
     "output_type": "execute_result"
    },
    {
     "data": {
      "text/plain": [
       "Text(0, 0.5, 'Features')"
      ]
     },
     "execution_count": 55,
     "metadata": {},
     "output_type": "execute_result"
    },
    {
     "data": {
      "text/plain": [
       "Text(0.5, 1.0, 'Visualizing Important Features')"
      ]
     },
     "execution_count": 55,
     "metadata": {},
     "output_type": "execute_result"
    },
    {
     "name": "stderr",
     "output_type": "stream",
     "text": [
      "No handles with labels found to put in legend.\n"
     ]
    },
    {
     "data": {
      "text/plain": [
       "<matplotlib.legend.Legend at 0x1c78001cac0>"
      ]
     },
     "execution_count": 55,
     "metadata": {},
     "output_type": "execute_result"
    },
    {
     "data": {
      "image/png": "[encoded data removed]",
      "text/plain": [
       "<Figure size 432x288 with 1 Axes>"
      ]
     },
     "metadata": {
      "needs_background": "light"
     },
     "output_type": "display_data"
    }
   ],
   "source": [
    "feature_imp = pd.Series(clf.feature_importances_,index=X.columns).sort_values(ascending=False)\n",
    "\n",
    "# Creating a bar plot, displaying only the top k features\n",
    "k=10\n",
    "sns.barplot(x=feature_imp[:10], y=feature_imp.index[:k])\n",
    "# Add labels to your graph\n",
    "plt.xlabel('Feature Importance Score')\n",
    "plt.ylabel('Features')\n",
    "plt.title(\"Visualizing Important Features\")\n",
    "plt.legend()\n",
    "plt.show()"
   ]
  },
  {
   "cell_type": "markdown",
   "metadata": {
    "pycharm": {
     "name": "#%% md\n"
    },
    "slideshow": {
     "slide_type": "slide"
    }
   },
   "source": [
    "##### Creating a new Random Forest Classifier for the most important features"
   ]
  },
  {
   "cell_type": "code",
   "execution_count": null,
   "metadata": {
    "pycharm": {
     "is_executing": true,
     "name": "#%%\n"
    }
   },
   "outputs": [
    {
     "data": {
      "text/plain": [
       "RandomForestClassifier(n_jobs=-1, random_state=0)"
      ]
     },
     "execution_count": 57,
     "metadata": {},
     "output_type": "execute_result"
    }
   ],
   "source": [
    "# Transform the data to create a new dataset containing only the most important features\n",
    "\n",
    "# Note: We have to apply the transform to both the training X and test X data.\n",
    "X_important_train = sfm.transform(X_train)\n",
    "X_important_test = sfm.transform(X_test)\n",
    "\n",
    "# Create a new random forest classifier for the most important features\n",
    "clf_important = RandomForestClassifier(n_estimators=100, random_state=0, n_jobs=-1)\n",
    "\n",
    "# Train the new classifier on the new dataset containing the most important features\n",
    "clf_important.fit(X_important_train, y_train)"
   ]
  },
  {
   "cell_type": "markdown",
   "metadata": {
    "pycharm": {
     "name": "#%% md\n"
    },
    "slideshow": {
     "slide_type": "slide"
    }
   },
   "source": [
    "##### Checking the Accuracy of Random Forest Algorithm with full and the limited features"
   ]
  },
  {
   "cell_type": "code",
   "execution_count": null,
   "metadata": {
    "pycharm": {
     "is_executing": true,
     "name": "#%%\n"
    }
   },
   "outputs": [
    {
     "name": "stdout",
     "output_type": "stream",
     "text": [
      "[Random forest algorithm -- Full feature] accuracy_score: 0.735.\n",
      "[Random forest algorithm -- Limited feature] accuracy_score: 0.661.\n"
     ]
    }
   ],
   "source": [
    "# Apply The Full Featured Classifier To The Test Data\n",
    "y_pred = clf.predict(X_test)\n",
    "\n",
    "# View The Accuracy Of Our Full Feature Model\n",
    "print('[Random forest algorithm -- Full feature] accuracy_score: {:.3f}.'.format(accuracy_score(y_test, y_pred)))\n",
    "\n",
    "# Apply The Full Featured Classifier To The Test Data\n",
    "y_important_pred = clf_important.predict(X_important_test)\n",
    "\n",
    "# View The Accuracy Of Our Limited Feature Model\n",
    "print('[Random forest algorithm -- Limited feature] accuracy_score: {:.3f}.'.format(accuracy_score(y_test, y_important_pred)))\n"
   ]
  },
  {
   "cell_type": "markdown",
   "metadata": {
    "pycharm": {
     "name": "#%% md\n"
    },
    "slideshow": {
     "slide_type": "slide"
    }
   },
   "source": [
    "#### Making a plot of the accuracy scores for different algorithms"
   ]
  },
  {
   "cell_type": "code",
   "execution_count": null,
   "metadata": {
    "pycharm": {
     "is_executing": true,
     "name": "#%%\n"
    },
    "scrolled": true
   },
   "outputs": [
    {
     "data": {
      "text/plain": [
       "Text(0.7546508910793333, -0.04999999999999999, '0.73')"
      ]
     },
     "execution_count": 59,
     "metadata": {},
     "output_type": "execute_result"
    },
    {
     "data": {
      "text/plain": [
       "Text(0.7589458440981421, 0.95, '0.74')"
      ]
     },
     "execution_count": 59,
     "metadata": {},
     "output_type": "execute_result"
    },
    {
     "data": {
      "text/plain": [
       "Text(0.7740686863367836, 1.95, '0.75')"
      ]
     },
     "execution_count": 59,
     "metadata": {},
     "output_type": "execute_result"
    },
    {
     "data": {
      "text/plain": [
       "Text(0.7757636294821373, 2.95, '0.76')"
      ]
     },
     "execution_count": 59,
     "metadata": {},
     "output_type": "execute_result"
    },
    {
     "data": {
      "text/plain": [
       "(0.0, 1.1)"
      ]
     },
     "execution_count": 59,
     "metadata": {},
     "output_type": "execute_result"
    },
    {
     "data": {
      "text/plain": [
       "Text(0.5, 0, 'Accuracy Score')"
      ]
     },
     "execution_count": 59,
     "metadata": {},
     "output_type": "execute_result"
    },
    {
     "data": {
      "text/plain": [
       "([<matplotlib.axis.YTick at 0x1c7806c6370>,\n",
       "  <matplotlib.axis.YTick at 0x1c7806c0f70>,\n",
       "  <matplotlib.axis.YTick at 0x1c7806dbf10>,\n",
       "  <matplotlib.axis.YTick at 0x1c7806ecf40>],\n",
       " [Text(0, 0, 'Random Forest'),\n",
       "  Text(0, 1, ' K-Nearest Neighbors'),\n",
       "  Text(0, 2, 'Decision Trees'),\n",
       "  Text(0, 3, 'Logistic Regression')])"
      ]
     },
     "execution_count": 59,
     "metadata": {},
     "output_type": "execute_result"
    },
    {
     "data": {
      "text/plain": [
       "Text(0.5, 1.0, 'Accuracy Score of each Algorithm')"
      ]
     },
     "execution_count": 59,
     "metadata": {},
     "output_type": "execute_result"
    },
    {
     "data": {
      "image/png": "[encoded data removed]",
      "text/plain": [
       "<Figure size 432x288 with 1 Axes>"
      ]
     },
     "metadata": {
      "needs_background": "light"
     },
     "output_type": "display_data"
    }
   ],
   "source": [
    "# Make a plot of the accuracy scores for different algorithms\n",
    "\n",
    "# Generate a list of ticks for y-axis\n",
    "y_ticks=np.arange(len(algo_lst))\n",
    "\n",
    "# Combine the list of algorithms and list of accuracy scores into a dataframe, sort the value based on accuracy score\n",
    "df_acc=pd.DataFrame(list(zip(algo_lst, accuracy_lst)), columns=['Algorithm','Accuracy_Score']).sort_values(by=['Accuracy_Score'],ascending = True)\n",
    "\n",
    "# Export to a file\n",
    "df_acc.to_csv('./Accuracy_scores_algorithms_{}.csv', index=False)\n",
    "\n",
    "# Make a plot\n",
    "ax=df_acc.plot.barh('Algorithm', 'Accuracy_Score', align='center',legend=False,color='0.5')\n",
    "\n",
    "# Add the data label on to the plot\n",
    "for i in ax.patches:\n",
    "    # get_width pulls left or right; get_y pushes up or down\n",
    "    ax.text(i.get_width()+0.02, i.get_y()+0.2, str(round(i.get_width(),2)), fontsize=10)\n",
    "\n",
    "# Set the limit, lables, ticks and title\n",
    "plt.xlim(0,1.1)\n",
    "plt.xlabel('Accuracy Score')\n",
    "plt.yticks(y_ticks, df_acc['Algorithm'], rotation=0)\n",
    "plt.title('Accuracy Score of each Algorithm')\n",
    "\n",
    "plt.show()"
   ]
  },
  {
   "cell_type": "markdown",
   "metadata": {
    "pycharm": {
     "name": "#%% md\n"
    },
    "slideshow": {
     "slide_type": "slide"
    }
   },
   "source": [
    "### Deployment\n",
    "For the deployment phase as it can vary from project to project a simple pdf report has been generated."
   ]
  },
  {
   "cell_type": "markdown",
   "metadata": {
    "slideshow": {
     "slide_type": "slide"
    }
   },
   "source": [
    "### Summary\n",
    "*  Seattle road accidents data has been analyzed to get useful insights.\n",
    "*  The data contains multiple attributes e.g. accident severity, collision type, coordinates of the incident,\n",
    "   date and time of the incident, weather and road conditions, address types, no of persons injured and property\n",
    "   damage and many other attributes.\n",
    "*  There are two accident severity types i.e. \n",
    "      * Property damage only collision(1)\n",
    "      * Injury collision(2)\n",
    "*  After the data preparation understanding phase, data preparation phase was carried out by selecting the right\n",
    "   features for the machine learning model.\n",
    "*  In the Modeling phase, 4 algorithms were selected where the target class was \"accident severity\".\n",
    "*  Based on the predictions, \"Logistic Regression\" relatively performed better among the others with the percentage\n",
    "   of 76%."
   ]
  },
  {
   "cell_type": "markdown",
   "metadata": {
    "pycharm": {
     "name": "#%% md\n"
    },
    "slideshow": {
     "slide_type": "slide"
    }
   },
   "source": [
    "### Conclusion\n",
    "Based on the selected dataset(features) for this capstone that include mainly, coordinates, hour, person count and the collision type, it can be concluded that these particular classes have a somewhat impact on whether or not travelling along the Seattle roads could result in property damage (class 1) or injury (class 2).\n",
    "In this study, the technique of association rules with a large set of accident data to identify the reasons of road accidents were used.The results show that this model could provide good predictions against traffic accident with 76% correct rate.It should be noted that due to the constraints of data and research condition, there are still some factors, such as engine capacity, traffic flows, gender, age of the driver, attaining the missing data etc. that are not considered in this model and can be taken into account for future study. The results of this study can be used in vehicle safety assistance driving and provide early warnings and proposals for safe driving and hence help in reducing the number of accidents."
   ]
  }
 ],
 "metadata": {
  "celltoolbar": "Slideshow",
  "hide_input": true,
  "kernelspec": {
   "display_name": "Python 3",
   "language": "python",
   "name": "python3"
  },
  "language_info": {
   "codemirror_mode": {
    "name": "ipython",
    "version": 3
   },
   "file_extension": ".py",
   "mimetype": "text/x-python",
   "name": "python",
   "nbconvert_exporter": "python",
   "pygments_lexer": "ipython3",
   "version": "3.8.5"
  },
  "toc": {
   "base_numbering": 1,
   "nav_menu": {
    "height": "408px",
    "width": "478px"
   },
   "number_sections": true,
   "sideBar": true,
   "skip_h1_title": true,
   "title_cell": "Table of Contents",
   "title_sidebar": "Contents",
   "toc_cell": false,
   "toc_position": {
    "height": "calc(100% - 180px)",
    "left": "10px",
    "top": "150px",
    "width": "201.188px"
   },
   "toc_section_display": true,
   "toc_window_display": false
  },
  "varInspector": {
   "cols": {
    "lenName": 16,
    "lenType": 16,
    "lenVar": 40
   },
   "kernels_config": {
    "python": {
     "delete_cmd_postfix": "",
     "delete_cmd_prefix": "del ",
     "library": "var_list.py",
     "varRefreshCmd": "print(var_dic_list())"
    },
    "r": {
     "delete_cmd_postfix": ") ",
     "delete_cmd_prefix": "rm(",
     "library": "var_list.r",
     "varRefreshCmd": "cat(var_dic_list()) "
    }
   },
   "types_to_exclude": [
    "module",
    "function",
    "builtin_function_or_method",
    "instance",
    "_Feature"
   ],
   "window_display": false
  },
  "widgets": {
   "application/vnd.jupyter.widget-state+json": {
    "state": {},
    "version_major": 2,
    "version_minor": 0
   }
  }
 },
 "nbformat": 4,
 "nbformat_minor": 1
}